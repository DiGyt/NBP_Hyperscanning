{
 "cells": [
  {
   "cell_type": "code",
   "execution_count": 1,
   "metadata": {
    "scrolled": true
   },
   "outputs": [
    {
     "name": "stderr",
     "output_type": "stream",
     "text": [
      "In /net/store/nbp/projects/hyperscanning/study_project/programming_tools/miniconda3/envs/hyperscanning/lib/python3.8/site-packages/matplotlib/mpl-data/stylelib/_classic_test.mplstyle: \n",
      "The text.latex.preview rcparam was deprecated in Matplotlib 3.3 and will be removed two minor releases later.\n",
      "In /net/store/nbp/projects/hyperscanning/study_project/programming_tools/miniconda3/envs/hyperscanning/lib/python3.8/site-packages/matplotlib/mpl-data/stylelib/_classic_test.mplstyle: \n",
      "The mathtext.fallback_to_cm rcparam was deprecated in Matplotlib 3.3 and will be removed two minor releases later.\n",
      "In /net/store/nbp/projects/hyperscanning/study_project/programming_tools/miniconda3/envs/hyperscanning/lib/python3.8/site-packages/matplotlib/mpl-data/stylelib/_classic_test.mplstyle: Support for setting the 'mathtext.fallback_to_cm' rcParam is deprecated since 3.3 and will be removed two minor releases later; use 'mathtext.fallback : 'cm' instead.\n",
      "In /net/store/nbp/projects/hyperscanning/study_project/programming_tools/miniconda3/envs/hyperscanning/lib/python3.8/site-packages/matplotlib/mpl-data/stylelib/_classic_test.mplstyle: \n",
      "The validate_bool_maybe_none function was deprecated in Matplotlib 3.3 and will be removed two minor releases later.\n",
      "In /net/store/nbp/projects/hyperscanning/study_project/programming_tools/miniconda3/envs/hyperscanning/lib/python3.8/site-packages/matplotlib/mpl-data/stylelib/_classic_test.mplstyle: \n",
      "The savefig.jpeg_quality rcparam was deprecated in Matplotlib 3.3 and will be removed two minor releases later.\n",
      "In /net/store/nbp/projects/hyperscanning/study_project/programming_tools/miniconda3/envs/hyperscanning/lib/python3.8/site-packages/matplotlib/mpl-data/stylelib/_classic_test.mplstyle: \n",
      "The keymap.all_axes rcparam was deprecated in Matplotlib 3.3 and will be removed two minor releases later.\n",
      "In /net/store/nbp/projects/hyperscanning/study_project/programming_tools/miniconda3/envs/hyperscanning/lib/python3.8/site-packages/matplotlib/mpl-data/stylelib/_classic_test.mplstyle: \n",
      "The animation.avconv_path rcparam was deprecated in Matplotlib 3.3 and will be removed two minor releases later.\n",
      "In /net/store/nbp/projects/hyperscanning/study_project/programming_tools/miniconda3/envs/hyperscanning/lib/python3.8/site-packages/matplotlib/mpl-data/stylelib/_classic_test.mplstyle: \n",
      "The animation.avconv_args rcparam was deprecated in Matplotlib 3.3 and will be removed two minor releases later.\n"
     ]
    }
   ],
   "source": [
    "import sys\n",
    "import os.path as op\n",
    "module_path = op.abspath(op.join('..'))\n",
    "if module_path not in sys.path:\n",
    "    sys.path.append(module_path)\n",
    "\n",
    "from scipy.io import loadmat\n",
    "import hypyp\n",
    "import mne\n",
    "import numpy as np\n",
    "\n",
    "from data_analysis.functions_connectivity import \\\n",
    "    plot_connectivity_matrix\n",
    "from data_analysis.functions_behavioral import \\\n",
    "    (create_event_df, remove_ghost_triggers, calculate_alpha,\n",
    "     join_event_dfs, remove_outliers, events_from_event_df)\n",
    "\n",
    "import matplotlib.pyplot as plt\n",
    "\n",
    "result_dir = \"/net/store/nbp/projects/hyperscanning/study_project/results/\"\n",
    "\n",
    "# BEHAVIOURAL STUFF\n",
    "import pandas as pd\n",
    "import glob\n",
    "from scipy.stats import pearsonr\n",
    "from matplotlib.pyplot import cm\n",
    "\n",
    "behav_path = \"/net/store/nbp/projects/hyperscanning/study_project/dirk/NBP_Hyperscanning/data_analysis/Behavioural_Analysis/BehaviouralData\""
   ]
  },
  {
   "cell_type": "code",
   "execution_count": null,
   "metadata": {
    "scrolled": true
   },
   "outputs": [],
   "source": [
    "# Extract frequency list\n",
    "freqs = mne.time_frequency.read_tfrs(op.join(result_dir, \"phase_angles\", str(203) + \"_\" + \"early\"))[0].freqs\n",
    "freqs_list = [round(i,2) for i in freqs]\n",
    "freqs_list_strings = [str(round(i,2)) for i in freqs]\n",
    "print(freqs_list)\n"
   ]
  },
  {
   "cell_type": "code",
   "execution_count": 36,
   "metadata": {},
   "outputs": [],
   "source": [
    "#subs = [\"203\"]\n",
    "subs = [\"202\", \"203\", \"204\", \"205\", \"206\", \"207\", \"208\", \"209\", \"211\", \"212\"]\n",
    "cond = \"early\" "
   ]
  },
  {
   "cell_type": "code",
   "execution_count": 43,
   "metadata": {},
   "outputs": [],
   "source": [
    "\n",
    "def plottable_data (subs, cond):\n",
    "\n",
    "    ispc_list = []\n",
    "    swi_list = []\n",
    "    alpha_list = []\n",
    "    alphalin_list = []\n",
    "    sub_list = []\n",
    "\n",
    "    for subj in subs:\n",
    "\n",
    "        # do the behavioral analysis and get the epochs\n",
    "        df = pd.read_csv(op.join(behav_path, str(subj) + \".csv\"))\n",
    "        df = calculate_alpha(df)\n",
    "\n",
    "        # load the eeg based data\n",
    "        swis = loadmat(op.join(result_dir, \"small_worlds\", str(subj) + \"_\" + cond + \".mat\"))[cond]\n",
    "        ispcs = loadmat(op.join(result_dir, \"ispc_matrices\", str(subj) + \"_\" + cond + \".mat\"))[cond]\n",
    "\n",
    "        # remove all the trials that were removed by autoreject\n",
    "        bad_trials = loadmat(op.join(result_dir, \"dropped_epochs\", str(subj) + \".mat\"))[\"drop_list\"][0]\n",
    "        double_taps = loadmat(op.join(result_dir, \"double_taps\", str(subj) + \".mat\"))[\"double_taps\"][0]\n",
    "\n",
    "        # remove the epochs marked as bad from autoreject\n",
    "        df = df[np.logical_not(df[\"trial\"].isin(bad_trials + 1))]\n",
    "\n",
    "        # add the positive trial indices to remove double taps\n",
    "        trial_n = np.array([i for i in range(300) if i not in bad_trials]) + 1\n",
    "\n",
    "        # remove the epochs marked as bad from double taps\n",
    "        df = df[np.logical_not(df[\"trial\"].isin(double_taps))]\n",
    "        swis = np.array([vals for trial, vals in zip(trial_n, swis) if trial not in double_taps])\n",
    "        ispcs = np.array([vals for trial, vals in zip(trial_n, ispcs) if trial not in double_taps])\n",
    "\n",
    "        trials = set(df[\"trial\"])\n",
    "\n",
    "        alphas = []\n",
    "        alphalins = []\n",
    "        for trial in trials:\n",
    "            df_filt = df[df[\"trial\"] == trial]\n",
    "\n",
    "            if cond == \"early\":\n",
    "                start = df_filt[\"ttap\"].min()\n",
    "                stop = start + 1.5\n",
    "            else:\n",
    "                stop = df_filt[\"ttap\"].max()\n",
    "                start = stop - 1.5\n",
    "\n",
    "            df_frame = df_filt[np.logical_and(df_filt[\"ttap\"] >= start, df_filt[\"ttap\"] <= stop)]\n",
    "            df_frame = df_frame.dropna()\n",
    "\n",
    "            alphas.append(df_frame[\"alpha\"].mean())\n",
    "            alphalins.append(df_frame[\"alpha_lin\"].mean())\n",
    "\n",
    "        # add them to the lists:\n",
    "        ispc_list.append(ispcs)\n",
    "        swi_list.append(swis)\n",
    "        alpha_list.append(alphas)\n",
    "        alphalin_list.append(alphalins)\n",
    "        sub_list.append(subj)\n",
    "\n",
    "    ispc_list = np.concatenate([i for i in ispc_list], axis=0)\n",
    "    swi_list = np.concatenate([i for i in swi_list], axis=0)\n",
    "    alpha_list = np.concatenate([i for i in alpha_list], axis=0)\n",
    "    alphalin_list = np.concatenate([i for i in alphalin_list], axis=0)\n",
    "    ispc_inter = ispc_list[:, :64,64:,:]\n",
    "    ispc_intra = ispc_list[:,64:,:129,:]\n",
    "    #indices = [idx for idx, val in enumerate(alpha_list) if not np.isnan(val)]\n",
    "\n",
    "    #ispc_list = ispc_list[indices]\n",
    "    #swi_list = swi_list[indices]\n",
    "    #alpha_list = alpha_list[indices]\n",
    "    #alphalin_list = alphalin_list[indices]\n",
    "\n",
    "\n",
    "\n",
    "\n",
    "    return ispc_list, swi_list, alphalin_list, ispc_inter, ispc_intra, sub_list\n"
   ]
  },
  {
   "cell_type": "code",
   "execution_count": 45,
   "metadata": {},
   "outputs": [],
   "source": [
    "ispc_early, swi_early, alphalin_early, ispc_inter_early, ispc_intra_early,sub_list = plottable_data(subs, \"early\")"
   ]
  },
  {
   "cell_type": "code",
   "execution_count": 46,
   "metadata": {},
   "outputs": [],
   "source": [
    "ispc_late, swi_late, alphalin_late, ispc_inter_late, ispc_intra_late, sub_list = plottable_data(subs, \"late\")"
   ]
  },
  {
   "cell_type": "code",
   "execution_count": 39,
   "metadata": {
    "scrolled": false
   },
   "outputs": [
    {
     "name": "stdout",
     "output_type": "stream",
     "text": [
      "203 number of ISPC-values: 64\n"
     ]
    }
   ],
   "source": [
    "for i in range(len(subs)):\n",
    "    print(subs[i],\"number of ISPC-values:\",len(ispc_intra_late[i]))"
   ]
  },
  {
   "cell_type": "code",
   "execution_count": 48,
   "metadata": {},
   "outputs": [],
   "source": [
    "data1 = np.array(ispc_early).flatten()\n",
    "data2 = np.array(ispc_late).flatten()"
   ]
  },
  {
   "cell_type": "code",
   "execution_count": 50,
   "metadata": {},
   "outputs": [
    {
     "data": {
      "image/png": "[encoded data removed]",
      "text/plain": [
       "<Figure size 432x288 with 1 Axes>"
      ]
     },
     "metadata": {
      "needs_background": "light"
     },
     "output_type": "display_data"
    }
   ],
   "source": [
    "n, bins, patches = plt.hist(data1, 150, density=True, facecolor='g', alpha=0.8, label = 'early')\n",
    "n, bins, patches = plt.hist(data2, 150, density=True, facecolor='b', alpha=0.5, label = 'late')\n",
    "plt.title('ISPC distribution (not baseline-corrected)')\n",
    "plt.ylabel('Probability')\n",
    "plt.xlabel('ISPC')\n",
    "plt.legend(loc='upper right')\n",
    "plt.savefig('ISPC_early_vs_late_hist_203_no_base.pdf')"
   ]
  },
  {
   "cell_type": "markdown",
   "metadata": {},
   "source": [
    "## ISPC"
   ]
  },
  {
   "cell_type": "code",
   "execution_count": 17,
   "metadata": {},
   "outputs": [],
   "source": [
    "ispcs_early = []\n",
    "ispcs_late = []\n",
    "\n",
    "\n",
    "for subj in subs:\n",
    "    ispc_sub_early = loadmat(op.join(result_dir, \"ispc_matrices\", str(subj) + \"_\" + \"early\" + \".mat\"))[\"early\"]\n",
    "    ispc_sub_late = loadmat(op.join(result_dir, \"ispc_matrices\", str(subj) + \"_\" + \"late\" + \".mat\"))[\"late\"]\n",
    "    \n",
    "    ispcs_early.append(ispc_sub_early)\n",
    "    ispcs_late.append(ispc_sub_late)"
   ]
  },
  {
   "cell_type": "code",
   "execution_count": 18,
   "metadata": {},
   "outputs": [
    {
     "name": "stderr",
     "output_type": "stream",
     "text": [
      "<ipython-input-18-d49f2c95cc4c>:1: VisibleDeprecationWarning: Creating an ndarray from ragged nested sequences (which is a list-or-tuple of lists-or-tuples-or ndarrays with different lengths or shapes) is deprecated. If you meant to do this, you must specify 'dtype=object' when creating the ndarray\n",
      "  data_late = np.array(ispcs_late).flatten()\n",
      "<ipython-input-18-d49f2c95cc4c>:2: VisibleDeprecationWarning: Creating an ndarray from ragged nested sequences (which is a list-or-tuple of lists-or-tuples-or ndarrays with different lengths or shapes) is deprecated. If you meant to do this, you must specify 'dtype=object' when creating the ndarray\n",
      "  data_early = np.array(ispcs_early).flatten()\n"
     ]
    }
   ],
   "source": [
    "data_late = np.array(ispcs_late).flatten()\n",
    "data_early = np.array(ispcs_early).flatten()"
   ]
  },
  {
   "cell_type": "code",
   "execution_count": null,
   "metadata": {
    "scrolled": true
   },
   "outputs": [],
   "source": [
    "n, bins, patches = plt.hist(data_late, 50, density=True, facecolor='g', alpha=0.5, label = 'late')\n",
    "#n, bins, patches = plt.hist(data_early, 50, density=True, facecolor='b', alpha=0.2, label = 'early')\n",
    "plt.ylabel('ISPC distribution')\n",
    "plt.ylabel('Probability')\n",
    "plt.xlabel('ISPC')\n",
    "plt.legend(loc='upper right')"
   ]
  },
  {
   "cell_type": "code",
   "execution_count": 19,
   "metadata": {},
   "outputs": [
    {
     "data": {
      "text/plain": [
       "<matplotlib.legend.Legend at 0x7f8c2cc7cf40>"
      ]
     },
     "execution_count": 19,
     "metadata": {},
     "output_type": "execute_result"
    },
    {
     "data": {
      "image/png": "[encoded data removed]",
      "text/plain": [
       "<Figure size 432x288 with 1 Axes>"
      ]
     },
     "metadata": {
      "needs_background": "light"
     },
     "output_type": "display_data"
    }
   ],
   "source": [
    "plt.hist(data_late, 100, density=True, facecolor='g', alpha=0.5, label = 'late')\n",
    "plt.hist(data_early, 100, density=True, facecolor='b', alpha=0.2, label = 'early')\n",
    "plt.ylabel('ISPC distribution')\n",
    "plt.ylabel('Probability')\n",
    "plt.xlabel('ISPC')\n",
    "plt.legend(loc='upper right')"
   ]
  },
  {
   "cell_type": "code",
   "execution_count": 3,
   "metadata": {
    "scrolled": true
   },
   "outputs": [
    {
     "name": "stdout",
     "output_type": "stream",
     "text": [
      "Reading /net/store/nbp/projects/hyperscanning/study_project/results/phase_angles/204_late ...\n"
     ]
    },
    {
     "name": "stderr",
     "output_type": "stream",
     "text": [
      "<ipython-input-3-c22199580003>:4: RuntimeWarning: This filename (/net/store/nbp/projects/hyperscanning/study_project/results/phase_angles/204_late) does not conform to MNE naming conventions. All tfr files should end with -tfr.h5 or _tfr.h5\n",
      "  tfr = mne.time_frequency.read_tfrs(op.join(result_dir, \"phase_angles\", str(subj) + \"_\" + cond))[0]\n"
     ]
    },
    {
     "name": "stdout",
     "output_type": "stream",
     "text": [
      "Not setting metadata\n"
     ]
    }
   ],
   "source": [
    "subj = \"204\"\n",
    "cond = \"late\"\n",
    "ispcs = loadmat(op.join(result_dir, \"ispc_matrices\", str(subj) + \"_\" + cond + \".mat\"))[cond]\n",
    "tfr = mne.time_frequency.read_tfrs(op.join(result_dir, \"phase_angles\", str(subj) + \"_\" + cond))[0]\n",
    "avg_ispcs = np.mean(ispcs, axis=0)\n",
    "inter_b = [np.mean(avg_ispcs[0:64, 64:2*64, i]) for i in range(len(tfr.freqs))]\n",
    "intra_b = [np.mean(avg_ispcs[0:64, 0:64, i]) for i in range(len(tfr.freqs))]"
   ]
  },
  {
   "cell_type": "code",
   "execution_count": 7,
   "metadata": {
    "scrolled": true
   },
   "outputs": [
    {
     "data": {
      "text/plain": [
       "array([[[1.        , 1.        , 1.        , ..., 1.        ,\n",
       "         1.        , 1.        ],\n",
       "        [0.92708983, 0.91987721, 0.91908314, ..., 0.87726608,\n",
       "         0.8617406 , 0.8566533 ],\n",
       "        [0.83066645, 0.8225376 , 0.82202236, ..., 0.72387002,\n",
       "         0.70323057, 0.68518323],\n",
       "        ...,\n",
       "        [0.25484441, 0.24869028, 0.2535134 , ..., 0.267088  ,\n",
       "         0.25157751, 0.24552493],\n",
       "        [0.25915778, 0.26424108, 0.26422532, ..., 0.25524556,\n",
       "         0.25048907, 0.25130594],\n",
       "        [0.25953706, 0.25858821, 0.26310977, ..., 0.25605954,\n",
       "         0.25255652, 0.24603959]],\n",
       "\n",
       "       [[0.92708983, 0.91987721, 0.91908314, ..., 0.87726608,\n",
       "         0.8617406 , 0.8566533 ],\n",
       "        [1.        , 1.        , 1.        , ..., 1.        ,\n",
       "         1.        , 1.        ],\n",
       "        [0.92204946, 0.92186496, 0.92300384, ..., 0.87208678,\n",
       "         0.87148696, 0.85518664],\n",
       "        ...,\n",
       "        [0.25467862, 0.24723918, 0.25372192, ..., 0.26245184,\n",
       "         0.25387881, 0.24827292],\n",
       "        [0.26524256, 0.26459779, 0.26824619, ..., 0.25275473,\n",
       "         0.24669121, 0.25883456],\n",
       "        [0.26012286, 0.25943208, 0.26639037, ..., 0.24924967,\n",
       "         0.25580816, 0.24942083]],\n",
       "\n",
       "       [[0.83066645, 0.8225376 , 0.82202236, ..., 0.72387002,\n",
       "         0.70323057, 0.68518323],\n",
       "        [0.92204946, 0.92186496, 0.92300384, ..., 0.87208678,\n",
       "         0.87148696, 0.85518664],\n",
       "        [1.        , 1.        , 1.        , ..., 1.        ,\n",
       "         1.        , 1.        ],\n",
       "        ...,\n",
       "        [0.25837059, 0.24698498, 0.25314113, ..., 0.25892002,\n",
       "         0.24692239, 0.25246133],\n",
       "        [0.26735414, 0.26786027, 0.2684458 , ..., 0.24874609,\n",
       "         0.24374603, 0.26425783],\n",
       "        [0.25591024, 0.25178629, 0.26532731, ..., 0.24467091,\n",
       "         0.25825444, 0.25211522]],\n",
       "\n",
       "       ...,\n",
       "\n",
       "       [[0.25484441, 0.24869028, 0.2535134 , ..., 0.267088  ,\n",
       "         0.25157751, 0.24552493],\n",
       "        [0.25467862, 0.24723918, 0.25372192, ..., 0.26245184,\n",
       "         0.25387881, 0.24827292],\n",
       "        [0.25837059, 0.24698498, 0.25314113, ..., 0.25892002,\n",
       "         0.24692239, 0.25246133],\n",
       "        ...,\n",
       "        [1.        , 1.        , 1.        , ..., 1.        ,\n",
       "         1.        , 1.        ],\n",
       "        [0.29084904, 0.28802476, 0.27893497, ..., 0.24848048,\n",
       "         0.2555647 , 0.25213177],\n",
       "        [0.53188306, 0.53058744, 0.53466561, ..., 0.57745974,\n",
       "         0.56685884, 0.55145203]],\n",
       "\n",
       "       [[0.25915778, 0.26424108, 0.26422532, ..., 0.25524556,\n",
       "         0.25048907, 0.25130594],\n",
       "        [0.26524256, 0.26459779, 0.26824619, ..., 0.25275473,\n",
       "         0.24669121, 0.25883456],\n",
       "        [0.26735414, 0.26786027, 0.2684458 , ..., 0.24874609,\n",
       "         0.24374603, 0.26425783],\n",
       "        ...,\n",
       "        [0.29084904, 0.28802476, 0.27893497, ..., 0.24848048,\n",
       "         0.2555647 , 0.25213177],\n",
       "        [1.        , 1.        , 1.        , ..., 1.        ,\n",
       "         1.        , 1.        ],\n",
       "        [0.52898375, 0.51282117, 0.49543498, ..., 0.39634622,\n",
       "         0.38043548, 0.38941471]],\n",
       "\n",
       "       [[0.25953706, 0.25858821, 0.26310977, ..., 0.25605954,\n",
       "         0.25255652, 0.24603959],\n",
       "        [0.26012286, 0.25943208, 0.26639037, ..., 0.24924967,\n",
       "         0.25580816, 0.24942083],\n",
       "        [0.25591024, 0.25178629, 0.26532731, ..., 0.24467091,\n",
       "         0.25825444, 0.25211522],\n",
       "        ...,\n",
       "        [0.53188306, 0.53058744, 0.53466561, ..., 0.57745974,\n",
       "         0.56685884, 0.55145203],\n",
       "        [0.52898375, 0.51282117, 0.49543498, ..., 0.39634622,\n",
       "         0.38043548, 0.38941471],\n",
       "        [1.        , 1.        , 1.        , ..., 1.        ,\n",
       "         1.        , 1.        ]]])"
      ]
     },
     "execution_count": 7,
     "metadata": {},
     "output_type": "execute_result"
    }
   ],
   "source": [
    "avg_ispcs"
   ]
  },
  {
   "cell_type": "code",
   "execution_count": null,
   "metadata": {},
   "outputs": [],
   "source": [
    "def plot_ISPCs(subs, cond):\n",
    "    for subj in subs:\n",
    "        ispcs = loadmat(op.join(result_dir, \"ispc_matrices\", str(subj) + \"_\" + cond + \".mat\"))[cond]\n",
    "        tfr = mne.time_frequency.read_tfrs(op.join(result_dir, \"phase_angles\", str(subj) + \"_\" + cond))[0]\n",
    "        avg_ispcs = np.mean(ispcs, axis=0)\n",
    "        inter_b = [np.mean(avg_ispcs[0:64, 64:2*64, i]) for i in range(len(tfr.freqs))]\n",
    "        intra_b = [np.mean(avg_ispcs[0:64, 0:64, i]) for i in range(len(tfr.freqs))]\n",
    "\n",
    "\n",
    "    \n",
    "\n"
   ]
  },
  {
   "cell_type": "code",
   "execution_count": 17,
   "metadata": {},
   "outputs": [
    {
     "data": {
      "image/png": "[encoded data removed]",
      "text/plain": [
       "<Figure size 1080x504 with 1 Axes>"
      ]
     },
     "metadata": {
      "needs_background": "light"
     },
     "output_type": "display_data"
    }
   ],
   "source": [
    "#### x = tfr.freqs  # the label locations\n",
    "width = np.diff(x) # the width of the bars\n",
    "width = np.append(width, [5.5], axis = 0)\n",
    "width /=3\n",
    "\n",
    "fig, ax = plt.subplots(figsize=(15,7))\n",
    "rects1 = ax.bar(x - width/2, inter_b, width, label='Inter-Brain',align=\"edge\")\n",
    "rects2 = ax.bar(x + width/2, intra_b, width, label='Intra-Brain',align=\"edge\")\n",
    "\n",
    "labels = [str(round(i,2)) for i in tfr.freqs]\n",
    "\n",
    "\n",
    "# Add some text for labels, title and custom x-axis tick labels, etc.\n",
    "ax.set_ylabel('ISPCs')\n",
    "ax.set_title('Average Inter- vs. intrabrain connectivity strength (ISPC) over Frequency Bands')\n",
    "ax.set_xscale('log')\n",
    "ax.set_xticks(x+width)\n",
    "ax.set_xticklabels(labels)\n",
    "\n",
    "\n",
    "#ax.set_xticklabels(labels)\n",
    "ax.legend()\n",
    "\n",
    "fig.tight_layout()\n",
    "\n",
    "#plt.show()\n",
    "plt.savefig('Avg_ISPC_freqs.pdf')"
   ]
  },
  {
   "cell_type": "code",
   "execution_count": 20,
   "metadata": {},
   "outputs": [
    {
     "name": "stdout",
     "output_type": "stream",
     "text": [
      "128 128\n"
     ]
    }
   ],
   "source": [
    "# do the behavioral analysis and get the epochs\n",
    "df = pd.read_csv(op.join(behav_path, str(subj) + \".csv\"))\n",
    "df = calculate_alpha(df)\n",
    "\n",
    "# load the swis\n",
    "swis = loadmat(op.join(result_dir, \"small_worlds\", str(subj) + \"_\" + cond + \".mat\"))[cond]\n",
    "\n",
    "# remove all the trials that were removed by autoreject\n",
    "bad_trials = loadmat(op.join(result_dir, \"dropped_epochs\", str(subj) + \".mat\"))[\"drop_list\"][0]\n",
    "double_taps = loadmat(op.join(result_dir, \"double_taps\", str(subj) + \".mat\"))[\"double_taps\"][0]\n",
    "\n",
    "# remove the epochs marked as bad from autoreject\n",
    "df = df[np.logical_not(df[\"trial\"].isin(bad_trials + 1))]\n",
    "\n",
    "# add the positive trial indices to remove double taps\n",
    "trial_n = np.array([i for i in range(300) if i not in bad_trials]) + 1\n",
    "\n",
    "# remove the epochs marked as bad from double taps\n",
    "df = df[np.logical_not(df[\"trial\"].isin(double_taps))]\n",
    "swis = np.array([vals for trial, vals in zip(trial_n, swis) if trial not in double_taps])\n",
    "\n",
    "print(len(swis), len(set(df[\"trial\"])))"
   ]
  },
  {
   "cell_type": "code",
   "execution_count": 21,
   "metadata": {},
   "outputs": [
    {
     "name": "stdout",
     "output_type": "stream",
     "text": [
      "(128,)\n",
      "(128,)\n"
     ]
    }
   ],
   "source": [
    "df = df.sort_values(\"trial\")\n",
    "\n",
    "# get the average alpha for early\n",
    "early_start = df.groupby([\"trial\"])[\"ttap\"].min()\n",
    "early_stop = early_start + 1.5\n",
    "\n",
    "early_avg = []\n",
    "for start, stop in zip(early_start, early_stop):\n",
    "    df_filt = df[np.logical_and(df[\"ttap\"] >= start, df[\"ttap\"] <= stop)]\n",
    "    early_avg.append(df_filt[\"alpha_lin\"].mean())\n",
    "print(early_stop.shape)\n",
    "\n",
    "# get the average alpha for late\n",
    "# same for old\n",
    "late_stop = df.groupby([\"trial\"])[\"ttap\"].max()\n",
    "late_start = late_stop - 1.5\n",
    "\n",
    "trials = set(df[\"trial\"])\n",
    "\n",
    "late_avg = []\n",
    "for trial, start, stop in zip(trials, late_start, late_stop):\n",
    "    df_filt = df[np.logical_and(df[\"trial\"] == trial , np.logical_and(df[\"ttap\"] >= start, df[\"ttap\"] <= stop))]\n",
    "    late_avg.append(df_filt[\"alpha_lin\"].mean())\n",
    "print(late_stop.shape)"
   ]
  },
  {
   "cell_type": "code",
   "execution_count": 22,
   "metadata": {},
   "outputs": [
    {
     "name": "stdout",
     "output_type": "stream",
     "text": [
      "(128,)\n"
     ]
    }
   ],
   "source": [
    "trials = set(df[\"trial\"])\n",
    "\n",
    "alphas = []\n",
    "alphalins = []\n",
    "for trial in trials:\n",
    "    df_filt = df[df[\"trial\"] == trial]\n",
    "    \n",
    "    if cond == \"early\":\n",
    "        start = df_filt[\"ttap\"].min()\n",
    "        stop = start + 1.5\n",
    "    else:\n",
    "        stop = df_filt[\"ttap\"].max()\n",
    "        start = stop - 1.5\n",
    "        \n",
    "    df_frame = df_filt[np.logical_and(df_filt[\"ttap\"] >= start, df_filt[\"ttap\"] <= stop)]\n",
    "    \n",
    "    alphas.append(df_frame[\"alpha\"].mean())\n",
    "    alphalins.append(df_frame[\"alpha_lin\"].mean())\n",
    "    \n",
    "print(late_stop.shape)\n"
   ]
  },
  {
   "cell_type": "code",
   "execution_count": 23,
   "metadata": {},
   "outputs": [
    {
     "data": {
      "text/html": [
       "<div>\n",
       "<style scoped>\n",
       "    .dataframe tbody tr th:only-of-type {\n",
       "        vertical-align: middle;\n",
       "    }\n",
       "\n",
       "    .dataframe tbody tr th {\n",
       "        vertical-align: top;\n",
       "    }\n",
       "\n",
       "    .dataframe thead th {\n",
       "        text-align: right;\n",
       "    }\n",
       "</style>\n",
       "<table border=\"1\" class=\"dataframe\">\n",
       "  <thead>\n",
       "    <tr style=\"text-align: right;\">\n",
       "      <th></th>\n",
       "      <th>pair</th>\n",
       "      <th>condition</th>\n",
       "      <th>block</th>\n",
       "      <th>trial</th>\n",
       "      <th>subject</th>\n",
       "      <th>tapnr</th>\n",
       "      <th>ttap</th>\n",
       "      <th>jitter</th>\n",
       "      <th>player_start_first</th>\n",
       "      <th>diff_inter</th>\n",
       "      <th>diff_intra</th>\n",
       "      <th>alpha</th>\n",
       "      <th>alpha_lin</th>\n",
       "    </tr>\n",
       "  </thead>\n",
       "  <tbody>\n",
       "    <tr>\n",
       "      <th>5384</th>\n",
       "      <td>203</td>\n",
       "      <td>blind</td>\n",
       "      <td>12</td>\n",
       "      <td>300</td>\n",
       "      <td>1</td>\n",
       "      <td>3</td>\n",
       "      <td>4.267664</td>\n",
       "      <td>0.075</td>\n",
       "      <td>1</td>\n",
       "      <td>-0.037352</td>\n",
       "      <td>0.487846</td>\n",
       "      <td>27.563508</td>\n",
       "      <td>27.563508</td>\n",
       "    </tr>\n",
       "    <tr>\n",
       "      <th>5385</th>\n",
       "      <td>203</td>\n",
       "      <td>blind</td>\n",
       "      <td>12</td>\n",
       "      <td>300</td>\n",
       "      <td>1</td>\n",
       "      <td>4</td>\n",
       "      <td>4.755510</td>\n",
       "      <td>0.075</td>\n",
       "      <td>1</td>\n",
       "      <td>-0.011429</td>\n",
       "      <td>0.495340</td>\n",
       "      <td>8.306175</td>\n",
       "      <td>8.306175</td>\n",
       "    </tr>\n",
       "    <tr>\n",
       "      <th>5393</th>\n",
       "      <td>203</td>\n",
       "      <td>blind</td>\n",
       "      <td>12</td>\n",
       "      <td>300</td>\n",
       "      <td>2</td>\n",
       "      <td>3</td>\n",
       "      <td>4.305016</td>\n",
       "      <td>0.075</td>\n",
       "      <td>1</td>\n",
       "      <td>0.037352</td>\n",
       "      <td>0.461923</td>\n",
       "      <td>29.110380</td>\n",
       "      <td>29.110380</td>\n",
       "    </tr>\n",
       "    <tr>\n",
       "      <th>5392</th>\n",
       "      <td>203</td>\n",
       "      <td>blind</td>\n",
       "      <td>12</td>\n",
       "      <td>300</td>\n",
       "      <td>2</td>\n",
       "      <td>2</td>\n",
       "      <td>3.851891</td>\n",
       "      <td>0.075</td>\n",
       "      <td>1</td>\n",
       "      <td>0.037938</td>\n",
       "      <td>0.453125</td>\n",
       "      <td>30.141181</td>\n",
       "      <td>30.141181</td>\n",
       "    </tr>\n",
       "    <tr>\n",
       "      <th>5383</th>\n",
       "      <td>203</td>\n",
       "      <td>blind</td>\n",
       "      <td>12</td>\n",
       "      <td>300</td>\n",
       "      <td>1</td>\n",
       "      <td>2</td>\n",
       "      <td>3.813953</td>\n",
       "      <td>0.075</td>\n",
       "      <td>1</td>\n",
       "      <td>-0.037938</td>\n",
       "      <td>0.453711</td>\n",
       "      <td>30.102249</td>\n",
       "      <td>30.102249</td>\n",
       "    </tr>\n",
       "    <tr>\n",
       "      <th>5391</th>\n",
       "      <td>203</td>\n",
       "      <td>blind</td>\n",
       "      <td>12</td>\n",
       "      <td>300</td>\n",
       "      <td>2</td>\n",
       "      <td>1</td>\n",
       "      <td>3.334874</td>\n",
       "      <td>0.075</td>\n",
       "      <td>1</td>\n",
       "      <td>-0.033793</td>\n",
       "      <td>0.517017</td>\n",
       "      <td>23.530111</td>\n",
       "      <td>23.530111</td>\n",
       "    </tr>\n",
       "    <tr>\n",
       "      <th>5382</th>\n",
       "      <td>203</td>\n",
       "      <td>blind</td>\n",
       "      <td>12</td>\n",
       "      <td>300</td>\n",
       "      <td>1</td>\n",
       "      <td>1</td>\n",
       "      <td>3.368667</td>\n",
       "      <td>0.075</td>\n",
       "      <td>1</td>\n",
       "      <td>0.033793</td>\n",
       "      <td>0.445286</td>\n",
       "      <td>27.320574</td>\n",
       "      <td>27.320574</td>\n",
       "    </tr>\n",
       "    <tr>\n",
       "      <th>5394</th>\n",
       "      <td>203</td>\n",
       "      <td>blind</td>\n",
       "      <td>12</td>\n",
       "      <td>300</td>\n",
       "      <td>2</td>\n",
       "      <td>4</td>\n",
       "      <td>4.766939</td>\n",
       "      <td>0.075</td>\n",
       "      <td>1</td>\n",
       "      <td>0.011429</td>\n",
       "      <td>0.445835</td>\n",
       "      <td>9.228479</td>\n",
       "      <td>9.228479</td>\n",
       "    </tr>\n",
       "  </tbody>\n",
       "</table>\n",
       "</div>"
      ],
      "text/plain": [
       "      pair condition  block  trial  subject  tapnr      ttap  jitter  \\\n",
       "5384   203     blind     12    300        1      3  4.267664   0.075   \n",
       "5385   203     blind     12    300        1      4  4.755510   0.075   \n",
       "5393   203     blind     12    300        2      3  4.305016   0.075   \n",
       "5392   203     blind     12    300        2      2  3.851891   0.075   \n",
       "5383   203     blind     12    300        1      2  3.813953   0.075   \n",
       "5391   203     blind     12    300        2      1  3.334874   0.075   \n",
       "5382   203     blind     12    300        1      1  3.368667   0.075   \n",
       "5394   203     blind     12    300        2      4  4.766939   0.075   \n",
       "\n",
       "      player_start_first  diff_inter  diff_intra      alpha  alpha_lin  \n",
       "5384                   1   -0.037352    0.487846  27.563508  27.563508  \n",
       "5385                   1   -0.011429    0.495340   8.306175   8.306175  \n",
       "5393                   1    0.037352    0.461923  29.110380  29.110380  \n",
       "5392                   1    0.037938    0.453125  30.141181  30.141181  \n",
       "5383                   1   -0.037938    0.453711  30.102249  30.102249  \n",
       "5391                   1   -0.033793    0.517017  23.530111  23.530111  \n",
       "5382                   1    0.033793    0.445286  27.320574  27.320574  \n",
       "5394                   1    0.011429    0.445835   9.228479   9.228479  "
      ]
     },
     "execution_count": 23,
     "metadata": {},
     "output_type": "execute_result"
    }
   ],
   "source": [
    "df_frame\n"
   ]
  },
  {
   "cell_type": "code",
   "execution_count": 24,
   "metadata": {
    "scrolled": true
   },
   "outputs": [
    {
     "data": {
      "text/plain": [
       "[-0.11937838138843265,\n",
       " -0.06624170576239657,\n",
       " 0.01179194711827088,\n",
       " 0.007814287373382975,\n",
       " 0.0014758872616903334,\n",
       " -0.02397057780508234,\n",
       " 0.014446010575837304,\n",
       " 0.003635198751480869,\n",
       " 0.0783439269118903,\n",
       " 0.15642808358238658,\n",
       " 0.09978307492663219,\n",
       " -0.01726836187348489,\n",
       " -0.11874601306448761,\n",
       " -0.10913994886101262,\n",
       " -0.07197286890808625,\n",
       " 0.10107195996484226,\n",
       " 0.27670687703658847,\n",
       " 0.10832388343963895,\n",
       " -0.08572930358596241,\n",
       " 0.10563805629315143]"
      ]
     },
     "execution_count": 24,
     "metadata": {},
     "output_type": "execute_result"
    }
   ],
   "source": [
    "rs = []\n",
    "for freq in range(swis.shape[-1]):\n",
    "    r = np.corrcoef(swis[:, freq], early_avg)\n",
    "    #plt.scatter(swis[:, freq], early_avg)\n",
    "    #plt.show()\n",
    "    rs.append(r[0, 1])\n",
    "rs\n"
   ]
  },
  {
   "cell_type": "code",
   "execution_count": 25,
   "metadata": {},
   "outputs": [
    {
     "data": {
      "text/plain": [
       "array([[ 1.        , -0.08113409],\n",
       "       [-0.08113409,  1.        ]])"
      ]
     },
     "execution_count": 25,
     "metadata": {},
     "output_type": "execute_result"
    }
   ],
   "source": [
    "np.corrcoef(np.mean(swis, axis=-1), late_avg)\n"
   ]
  },
  {
   "cell_type": "code",
   "execution_count": 26,
   "metadata": {},
   "outputs": [
    {
     "name": "stdout",
     "output_type": "stream",
     "text": [
      "[[ 1.         -0.08113409]\n",
      " [-0.08113409  1.        ]]\n"
     ]
    },
    {
     "data": {
      "image/png": "[encoded data removed]",
      "text/plain": [
       "<Figure size 432x288 with 1 Axes>"
      ]
     },
     "metadata": {
      "needs_background": "light"
     },
     "output_type": "display_data"
    }
   ],
   "source": [
    "plt.scatter(np.mean(swis, axis=-1), late_avg)\n",
    "print(np.corrcoef(np.mean(swis, axis=-1), late_avg))\n"
   ]
  },
  {
   "cell_type": "code",
   "execution_count": 27,
   "metadata": {},
   "outputs": [
    {
     "ename": "NameError",
     "evalue": "name 'event_df' is not defined",
     "output_type": "error",
     "traceback": [
      "\u001b[0;31m---------------------------------------------------------------------------\u001b[0m",
      "\u001b[0;31mNameError\u001b[0m                                 Traceback (most recent call last)",
      "\u001b[0;32m<ipython-input-27-9df420c5d81a>\u001b[0m in \u001b[0;36m<module>\u001b[0;34m\u001b[0m\n\u001b[0;32m----> 1\u001b[0;31m \u001b[0mmin_idx\u001b[0m \u001b[0;34m=\u001b[0m \u001b[0mevent_df\u001b[0m\u001b[0;34m.\u001b[0m\u001b[0mgroupby\u001b[0m\u001b[0;34m(\u001b[0m\u001b[0;34m[\u001b[0m\u001b[0;34m\"trial\"\u001b[0m\u001b[0;34m]\u001b[0m\u001b[0;34m)\u001b[0m\u001b[0;34m[\u001b[0m\u001b[0;34m\"sample\"\u001b[0m\u001b[0;34m]\u001b[0m\u001b[0;34m.\u001b[0m\u001b[0midxmin\u001b[0m\u001b[0;34m(\u001b[0m\u001b[0;34m)\u001b[0m\u001b[0;34m\u001b[0m\u001b[0;34m\u001b[0m\u001b[0m\n\u001b[0m\u001b[1;32m      2\u001b[0m \u001b[0mearly_df\u001b[0m \u001b[0;34m=\u001b[0m \u001b[0mevent_df\u001b[0m\u001b[0;34m[\u001b[0m\u001b[0mevent_df\u001b[0m\u001b[0;34m.\u001b[0m\u001b[0mindex\u001b[0m\u001b[0;34m.\u001b[0m\u001b[0misin\u001b[0m\u001b[0;34m(\u001b[0m\u001b[0mmin_idx\u001b[0m\u001b[0;34m)\u001b[0m\u001b[0;34m]\u001b[0m\u001b[0;34m\u001b[0m\u001b[0;34m\u001b[0m\u001b[0m\n\u001b[1;32m      3\u001b[0m \u001b[0mearly_events\u001b[0m \u001b[0;34m=\u001b[0m \u001b[0mevents_from_event_df\u001b[0m\u001b[0;34m(\u001b[0m\u001b[0mearly_df\u001b[0m\u001b[0;34m)\u001b[0m\u001b[0;34m\u001b[0m\u001b[0;34m\u001b[0m\u001b[0m\n\u001b[1;32m      4\u001b[0m \u001b[0mearly_events\u001b[0m\u001b[0;34m[\u001b[0m\u001b[0;34m:\u001b[0m\u001b[0;34m,\u001b[0m\u001b[0;34m-\u001b[0m\u001b[0;36m1\u001b[0m\u001b[0;34m]\u001b[0m \u001b[0;34m=\u001b[0m \u001b[0;36m1\u001b[0m\u001b[0;34m\u001b[0m\u001b[0;34m\u001b[0m\u001b[0m\n\u001b[1;32m      5\u001b[0m \u001b[0;34m\u001b[0m\u001b[0m\n",
      "\u001b[0;31mNameError\u001b[0m: name 'event_df' is not defined"
     ]
    }
   ],
   "source": [
    "min_idx = event_df.groupby([\"trial\"])[\"sample\"].idxmin()\n",
    "early_df = event_df[event_df.index.isin(min_idx)]\n",
    "early_events = events_from_event_df(early_df)\n",
    "early_events[:,-1] = 1\n",
    "\n",
    "# get the late taps by looking at the last sample - 1.5 seconds\n",
    "max_idx = event_df.groupby([\"trial\"])[\"sample\"].idxmax()\n",
    "late_df = event_df[event_df.index.isin(max_idx)]"
   ]
  },
  {
   "cell_type": "markdown",
   "metadata": {},
   "source": [
    "### ALL SUBS"
   ]
  },
  {
   "cell_type": "code",
   "execution_count": 28,
   "metadata": {},
   "outputs": [],
   "source": [
    "import pandas as pd\n",
    "import glob\n",
    "from scipy.stats import pearsonr\n",
    "from matplotlib.pyplot import cm\n",
    "\n",
    "behav_path = \"/net/store/nbp/projects/hyperscanning/study_project/dirk/NBP_Hyperscanning/data_analysis/Behavioural_Analysis/BehaviouralData\""
   ]
  },
  {
   "cell_type": "code",
   "execution_count": 29,
   "metadata": {},
   "outputs": [
    {
     "name": "stdout",
     "output_type": "stream",
     "text": [
      "Reading /net/store/nbp/projects/hyperscanning/study_project/results/phase_angles/203_early ...\n"
     ]
    },
    {
     "name": "stderr",
     "output_type": "stream",
     "text": [
      "<ipython-input-29-98ae6358c995>:1: RuntimeWarning: This filename (/net/store/nbp/projects/hyperscanning/study_project/results/phase_angles/203_early) does not conform to MNE naming conventions. All tfr files should end with -tfr.h5 or _tfr.h5\n",
      "  freqs = mne.time_frequency.read_tfrs(op.join(result_dir, \"phase_angles\", str(203) + \"_\" + \"early\"))[0].freqs\n"
     ]
    },
    {
     "name": "stdout",
     "output_type": "stream",
     "text": [
      "Not setting metadata\n"
     ]
    }
   ],
   "source": [
    "freqs = mne.time_frequency.read_tfrs(op.join(result_dir, \"phase_angles\", str(203) + \"_\" + \"early\"))[0].freqs\n"
   ]
  },
  {
   "cell_type": "code",
   "execution_count": 30,
   "metadata": {},
   "outputs": [
    {
     "name": "stdout",
     "output_type": "stream",
     "text": [
      "[4.0, 4.54, 5.16, 5.86, 6.66, 7.56, 8.59, 9.76, 11.08, 12.59, 14.3, 16.24, 18.45, 20.95, 23.8, 27.03, 30.71, 34.88, 39.62, 45.0]\n"
     ]
    }
   ],
   "source": [
    "freqs\n",
    "freqs_list = [round(i,2) for i in freqs]\n",
    "freqs_list_strings = [str(round(i,2)) for i in freqs]\n",
    "print(freqs_list)"
   ]
  },
  {
   "cell_type": "code",
   "execution_count": 32,
   "metadata": {},
   "outputs": [],
   "source": [
    "def plottable_data (subs, cond):\n",
    "\n",
    "    ispc_list = []\n",
    "    swi_list = []\n",
    "    alpha_list = []\n",
    "    alphalin_list = []\n",
    "\n",
    "    for subj in subs:\n",
    "\n",
    "        # do the behavioral analysis and get the epochs\n",
    "        df = pd.read_csv(op.join(behav_path, str(subj) + \".csv\"))\n",
    "        df = calculate_alpha(df)\n",
    "\n",
    "        # load the eeg based data\n",
    "        swis = loadmat(op.join(result_dir, \"small_worlds\", str(subj) + \"_\" + cond + \".mat\"))[cond]\n",
    "        ispcs = loadmat(op.join(result_dir, \"ispc_matrices\", str(subj) + \"_\" + cond + \".mat\"))[cond]\n",
    "\n",
    "        # remove all the trials that were removed by autoreject\n",
    "        bad_trials = loadmat(op.join(result_dir, \"dropped_epochs\", str(subj) + \".mat\"))[\"drop_list\"][0]\n",
    "        double_taps = loadmat(op.join(result_dir, \"double_taps\", str(subj) + \".mat\"))[\"double_taps\"][0]\n",
    "\n",
    "        # remove the epochs marked as bad from autoreject\n",
    "        df = df[np.logical_not(df[\"trial\"].isin(bad_trials + 1))]\n",
    "\n",
    "        # add the positive trial indices to remove double taps\n",
    "        trial_n = np.array([i for i in range(300) if i not in bad_trials]) + 1\n",
    "\n",
    "        # remove the epochs marked as bad from double taps\n",
    "        df = df[np.logical_not(df[\"trial\"].isin(double_taps))]\n",
    "        swis = np.array([vals for trial, vals in zip(trial_n, swis) if trial not in double_taps])\n",
    "        ispcs = np.array([vals for trial, vals in zip(trial_n, ispcs) if trial not in double_taps])\n",
    "\n",
    "        trials = set(df[\"trial\"])\n",
    "\n",
    "        alphas = []\n",
    "        alphalins = []\n",
    "        for trial in trials:\n",
    "            df_filt = df[df[\"trial\"] == trial]\n",
    "\n",
    "            if cond == \"early\":\n",
    "                start = df_filt[\"ttap\"].min()\n",
    "                stop = start + 1.5\n",
    "            else:\n",
    "                stop = df_filt[\"ttap\"].max()\n",
    "                start = stop - 1.5\n",
    "\n",
    "            df_frame = df_filt[np.logical_and(df_filt[\"ttap\"] >= start, df_filt[\"ttap\"] <= stop)]\n",
    "            df_frame = df_frame.dropna()\n",
    "\n",
    "            alphas.append(df_frame[\"alpha\"].mean())\n",
    "            alphalins.append(df_frame[\"alpha_lin\"].mean())\n",
    "\n",
    "        # add them to the lists:\n",
    "        ispc_list.append(ispcs)\n",
    "        swi_list.append(swis)\n",
    "        alpha_list.append(alphas)\n",
    "        alphalin_list.append(alphalins)\n",
    "'''\n",
    "    ispc_list = np.concatenate([i for i in ispc_list], axis=0)\n",
    "    swi_list = np.concatenate([i for i in swi_list], axis=0)\n",
    "    alpha_list = np.concatenate([i for i in alpha_list], axis=0)\n",
    "    alphalin_list = np.concatenate([i for i in alphalin_list], axis=0)\n",
    "\n",
    "    indices = [idx for idx, val in enumerate(alpha_list) if not np.isnan(val)]\n",
    "\n",
    "    ispc_list = ispc_list[indices]\n",
    "    swi_list = swi_list[indices]\n",
    "    alpha_list = alpha_list[indices]\n",
    "    alphalin_list = alphalin_list[indices]\n",
    "\n",
    "    ispc_inter = ispc_list[:, :64,64:,:]\n",
    "'''\n",
    "\n",
    "    \n",
    "    return ispc_list, swi_list, alphalin_list, ispc_inter"
   ]
  },
  {
   "cell_type": "code",
   "execution_count": 34,
   "metadata": {
    "scrolled": true
   },
   "outputs": [
    {
     "ename": "NameError",
     "evalue": "name 'sub_list_early' is not defined",
     "output_type": "error",
     "traceback": [
      "\u001b[0;31m---------------------------------------------------------------------------\u001b[0m",
      "\u001b[0;31mNameError\u001b[0m                                 Traceback (most recent call last)",
      "\u001b[0;32m<ipython-input-34-4762c6fc050a>\u001b[0m in \u001b[0;36m<module>\u001b[0;34m\u001b[0m\n\u001b[1;32m      6\u001b[0m \u001b[0mcolumns\u001b[0m \u001b[0;34m=\u001b[0m \u001b[0;34m[\u001b[0m\u001b[0;34m\"Pair\"\u001b[0m\u001b[0;34m,\u001b[0m\u001b[0;34m\"SWI_mean\"\u001b[0m\u001b[0;34m,\u001b[0m \u001b[0;34m\"alpha_lin\"\u001b[0m\u001b[0;34m]\u001b[0m\u001b[0;34m\u001b[0m\u001b[0;34m\u001b[0m\u001b[0m\n\u001b[1;32m      7\u001b[0m \u001b[0mdf_early\u001b[0m \u001b[0;34m=\u001b[0m \u001b[0mpd\u001b[0m\u001b[0;34m.\u001b[0m\u001b[0mDataFrame\u001b[0m\u001b[0;34m(\u001b[0m\u001b[0mcolumns\u001b[0m\u001b[0;34m=\u001b[0m\u001b[0mcolumns\u001b[0m\u001b[0;34m)\u001b[0m\u001b[0;34m\u001b[0m\u001b[0;34m\u001b[0m\u001b[0m\n\u001b[0;32m----> 8\u001b[0;31m \u001b[0mdf_early\u001b[0m\u001b[0;34m[\u001b[0m\u001b[0;34m\"Pair\"\u001b[0m\u001b[0;34m]\u001b[0m \u001b[0;34m=\u001b[0m \u001b[0msub_list_early\u001b[0m\u001b[0;34m\u001b[0m\u001b[0;34m\u001b[0m\u001b[0m\n\u001b[0m\u001b[1;32m      9\u001b[0m \u001b[0mdf_early\u001b[0m\u001b[0;34m[\u001b[0m\u001b[0;34m\"alpha_lin\"\u001b[0m\u001b[0;34m]\u001b[0m \u001b[0;34m=\u001b[0m \u001b[0malphalin_early\u001b[0m\u001b[0;34m\u001b[0m\u001b[0;34m\u001b[0m\u001b[0m\n\u001b[1;32m     10\u001b[0m \u001b[0;34m\u001b[0m\u001b[0m\n",
      "\u001b[0;31mNameError\u001b[0m: name 'sub_list_early' is not defined"
     ]
    }
   ],
   "source": [
    "subs = [\"202\", \"205\", \"206\", \"207\", \"208\", \"209\", \"211\",\"212\"]\n",
    "cond = \"early\"\n",
    "\n",
    "ispc_early, swi_early, alphalin_early, ispc_inter_early = plottable_data(subs, cond)\n"
   ]
  }
 ],
 "metadata": {
  "kernelspec": {
   "display_name": "Python 3",
   "language": "python",
   "name": "python3"
  },
  "language_info": {
   "codemirror_mode": {
    "name": "ipython",
    "version": 3
   },
   "file_extension": ".py",
   "mimetype": "text/x-python",
   "name": "python",
   "nbconvert_exporter": "python",
   "pygments_lexer": "ipython3",
   "version": "3.8.2"
  }
 },
 "nbformat": 4,
 "nbformat_minor": 4
}
