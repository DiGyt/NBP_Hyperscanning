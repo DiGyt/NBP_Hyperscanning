{
 "cells": [
  {
   "cell_type": "code",
   "execution_count": 4,
   "metadata": {},
   "outputs": [],
   "source": [
    "import sys\n",
    "import os.path as op\n",
    "module_path = op.abspath(op.join('..'))\n",
    "if module_path not in sys.path:\n",
    "    sys.path.append(module_path)\n",
    "    \n",
    "import os\n",
    "import numpy as np\n",
    "import pandas as pd\n",
    "from scipy.io import savemat\n",
    "import matplotlib.pyplot as plt\n",
    "\n",
    "from data_analysis.functions_behavioral import \\\n",
    "    (create_event_df, remove_ghost_triggers, calculate_alpha,\n",
    "     join_event_dfs, remove_outliers, events_from_event_df)\n",
    "\n",
    "######### APPLY DIRKS ALPHA & CLEANING ########\n",
    "\n",
    "# use a relative path to find data\n",
    "behav_dir = \"./Behavioural_Analysis/BehaviouralData\"\n",
    "result_dir = \"/net/store/nbp/projects/hyperscanning/study_project/results\"\n",
    "\n",
    "#all_files = os.listdir(data_path)"
   ]
  },
  {
   "cell_type": "code",
   "execution_count": 8,
   "metadata": {},
   "outputs": [
    {
     "name": "stdout",
     "output_type": "stream",
     "text": [
      "N of trials removed:  1\n",
      "N of trials removed:  1\n",
      "N of trials removed:  3\n",
      "N of trials removed:  0\n",
      "N of trials removed:  1\n",
      "N of trials removed:  2\n",
      "N of trials removed:  1\n",
      "N of trials removed:  1\n",
      "N of trials removed:  4\n",
      "N of trials removed:  18\n"
     ]
    }
   ],
   "source": [
    "for sub_pair in ['202','203','204','205','206','207','208','209','211','212']:\n",
    "    df = pd.read_csv(op.join(behav_dir, sub_pair + \".csv\"))\n",
    "        # do the behavioral analysis and get the epochs\n",
    "    behavioral_df = calculate_alpha(df)\n",
    "    \n",
    "    double_taps = list(set(behavioral_df[\"trial\"][behavioral_df[\"alpha_lin\"] > 360]))\n",
    "    savemat(op.join(result_dir, \"double_taps\", sub_pair + \".mat\"), {\"double_taps\":double_taps})\n",
    "    print(\"N of trials removed: \", len(double_taps))\n",
    "    \n",
    "    \n"
   ]
  }
 ],
 "metadata": {
  "kernelspec": {
   "display_name": "Python 3",
   "language": "python",
   "name": "python3"
  },
  "language_info": {
   "codemirror_mode": {
    "name": "ipython",
    "version": 3
   },
   "file_extension": ".py",
   "mimetype": "text/x-python",
   "name": "python",
   "nbconvert_exporter": "python",
   "pygments_lexer": "ipython3",
   "version": "3.8.2"
  }
 },
 "nbformat": 4,
 "nbformat_minor": 4
}
