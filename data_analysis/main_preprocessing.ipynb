{
 "cells": [
  {
   "cell_type": "markdown",
   "metadata": {},
   "source": [
    "### Import libraries and define subject path"
   ]
  },
  {
   "cell_type": "code",
   "execution_count": 11,
   "metadata": {},
   "outputs": [
    {
     "data": {
      "text/plain": [
       "'module://ipympl.backend_nbagg'"
      ]
     },
     "execution_count": 11,
     "metadata": {},
     "output_type": "execute_result"
    }
   ],
   "source": [
    "# This is our preprocessing script.\n",
    "# We select one recording, clean stuff and then perform the ICA\n",
    "# During this process, we save all bad components segments and channels\n",
    "\n",
    "import sys\n",
    "import os.path as op\n",
    "module_path = op.abspath(op.join('..'))\n",
    "if module_path not in sys.path:\n",
    "    sys.path.append(module_path)\n",
    "    \n",
    "import mne\n",
    "\n",
    "from data_analysis.functions_preprocessing import \\\n",
    "    (split_raws, mark_bads, save_bads, run_ica, save_ica)\n",
    "\n",
    "subject_dir = '/net/store/nbp/projects/hyperscanning/hyperscanning-2.0/mne_data/sourcedata/'\n",
    "\n",
    "#%matplotlib notebook\n",
    "#%matplotlib tk\n",
    "#%matplotlib qt\n",
    "#%matplotlib ipympl\n",
    "%matplotlib widget\n",
    "\n",
    "import matplotlib\n",
    "#matplotlib.use('Qt5Agg')\n",
    "matplotlib.get_backend()"
   ]
  },
  {
   "cell_type": "markdown",
   "metadata": {},
   "source": [
    "## Define the subject you want to clean"
   ]
  },
  {
   "cell_type": "code",
   "execution_count": 12,
   "metadata": {},
   "outputs": [
    {
     "name": "stdout",
     "output_type": "stream",
     "text": [
      "Please Type in, which subject pair you want to clean.\n",
      "For the pilot study, possible choices are:\n",
      "[202, 203, 204, 205, 206, 207, 208, 209, 211, 212]\n",
      "202\n",
      "\n",
      "Please Type in, which subject pair you want to clean.\n",
      "Type: 0 for the first participant and: 1 for the second.\n",
      "0\n"
     ]
    }
   ],
   "source": [
    "subj_pair = input(\"Please Type in, which subject pair you want to clean.\\n\"\n",
    "                  \"For the pilot study, possible choices are:\\n\"\n",
    "                  \"[202, 203, 204, 205, 206, 207, 208, 209, 211, 212]\\n\")\n",
    "\n",
    "participant = input(\"\\nPlease Type in, which subject pair you want to clean.\\n\"\n",
    "                    \"Type: 0 for the first participant and: 1 for the second.\\n\")"
   ]
  },
  {
   "cell_type": "markdown",
   "metadata": {},
   "source": [
    "## Load and prepare the EEG recording"
   ]
  },
  {
   "cell_type": "code",
   "execution_count": 13,
   "metadata": {
    "scrolled": false
   },
   "outputs": [
    {
     "name": "stdout",
     "output_type": "stream",
     "text": [
      "Opening raw data file /net/store/nbp/projects/hyperscanning/hyperscanning-2.0/mne_data/sourcedata/sub-202/eeg/sub-202_task-hyper_eeg.fif...\n"
     ]
    },
    {
     "name": "stderr",
     "output_type": "stream",
     "text": [
      "<ipython-input-13-4a3129ac1b06>:10: RuntimeWarning: This filename (/net/store/nbp/projects/hyperscanning/hyperscanning-2.0/mne_data/sourcedata/sub-202/eeg/sub-202_task-hyper_eeg.fif) does not conform to MNE naming conventions. All raw files should end with raw.fif, raw_sss.fif, raw_tsss.fif, raw.fif.gz, raw_sss.fif.gz, raw_tsss.fif.gz or _meg.fif\n",
      "  combined_raw = mne.io.read_raw_fif(subs_path, preload=True)\n"
     ]
    },
    {
     "name": "stdout",
     "output_type": "stream",
     "text": [
      "Isotrak not found\n",
      "    Range : 0 ... 3725311 =      0.000 ...  3637.999 secs\n",
      "Ready.\n",
      "Opening raw data file /net/store/nbp/projects/hyperscanning/hyperscanning-2.0/mne_data/sourcedata/sub-202/eeg/sub-202_task-hyper_eeg-1.fif...\n",
      "Isotrak not found\n",
      "    Range : 3725312 ... 5675445 =   3638.000 ...  5542.427 secs\n",
      "Ready.\n",
      "Reading 0 ... 5675445  =      0.000 ...  5542.427 secs...\n"
     ]
    },
    {
     "ename": "KeyboardInterrupt",
     "evalue": "",
     "output_type": "error",
     "traceback": [
      "\u001b[0;31m---------------------------------------------------------------------------\u001b[0m",
      "\u001b[0;31mKeyboardInterrupt\u001b[0m                         Traceback (most recent call last)",
      "\u001b[0;32m<ipython-input-13-4a3129ac1b06>\u001b[0m in \u001b[0;36m<module>\u001b[0;34m\u001b[0m\n\u001b[1;32m      8\u001b[0m \u001b[0;34m\u001b[0m\u001b[0m\n\u001b[1;32m      9\u001b[0m \u001b[0;31m# load the data\u001b[0m\u001b[0;34m\u001b[0m\u001b[0;34m\u001b[0m\u001b[0;34m\u001b[0m\u001b[0m\n\u001b[0;32m---> 10\u001b[0;31m \u001b[0mcombined_raw\u001b[0m \u001b[0;34m=\u001b[0m \u001b[0mmne\u001b[0m\u001b[0;34m.\u001b[0m\u001b[0mio\u001b[0m\u001b[0;34m.\u001b[0m\u001b[0mread_raw_fif\u001b[0m\u001b[0;34m(\u001b[0m\u001b[0msubs_path\u001b[0m\u001b[0;34m,\u001b[0m \u001b[0mpreload\u001b[0m\u001b[0;34m=\u001b[0m\u001b[0;32mTrue\u001b[0m\u001b[0;34m)\u001b[0m\u001b[0;34m\u001b[0m\u001b[0;34m\u001b[0m\u001b[0m\n\u001b[0m\u001b[1;32m     11\u001b[0m \u001b[0;34m\u001b[0m\u001b[0m\n\u001b[1;32m     12\u001b[0m \u001b[0;31m# split the subjects and delete the raw file\u001b[0m\u001b[0;34m\u001b[0m\u001b[0;34m\u001b[0m\u001b[0;34m\u001b[0m\u001b[0m\n",
      "\u001b[0;32m/net/store/nbp/projects/hyperscanning/study_project/programming_tools/miniconda3/envs/hyperscanning/lib/python3.8/site-packages/mne/io/fiff/raw.py\u001b[0m in \u001b[0;36mread_raw_fif\u001b[0;34m(fname, allow_maxshield, preload, verbose)\u001b[0m\n\u001b[1;32m    450\u001b[0m     \u001b[0;34m.\u001b[0m\u001b[0;34m.\u001b[0m \u001b[0mversionadded\u001b[0m\u001b[0;34m:\u001b[0m\u001b[0;34m:\u001b[0m \u001b[0;36m0.9\u001b[0m\u001b[0;36m.0\u001b[0m\u001b[0;34m\u001b[0m\u001b[0;34m\u001b[0m\u001b[0m\n\u001b[1;32m    451\u001b[0m     \"\"\"\n\u001b[0;32m--> 452\u001b[0;31m     return Raw(fname=fname, allow_maxshield=allow_maxshield,\n\u001b[0m\u001b[1;32m    453\u001b[0m                preload=preload, verbose=verbose)\n",
      "\u001b[0;32m<decorator-gen-169>\u001b[0m in \u001b[0;36m__init__\u001b[0;34m(self, fname, allow_maxshield, preload, verbose)\u001b[0m\n",
      "\u001b[0;32m/net/store/nbp/projects/hyperscanning/study_project/programming_tools/miniconda3/envs/hyperscanning/lib/python3.8/site-packages/mne/io/fiff/raw.py\u001b[0m in \u001b[0;36m__init__\u001b[0;34m(self, fname, allow_maxshield, preload, verbose)\u001b[0m\n\u001b[1;32m    115\u001b[0m \u001b[0;34m\u001b[0m\u001b[0m\n\u001b[1;32m    116\u001b[0m         \u001b[0;32mif\u001b[0m \u001b[0mpreload\u001b[0m\u001b[0;34m:\u001b[0m\u001b[0;34m\u001b[0m\u001b[0;34m\u001b[0m\u001b[0m\n\u001b[0;32m--> 117\u001b[0;31m             \u001b[0mself\u001b[0m\u001b[0;34m.\u001b[0m\u001b[0m_preload_data\u001b[0m\u001b[0;34m(\u001b[0m\u001b[0mpreload\u001b[0m\u001b[0;34m)\u001b[0m\u001b[0;34m\u001b[0m\u001b[0;34m\u001b[0m\u001b[0m\n\u001b[0m\u001b[1;32m    118\u001b[0m         \u001b[0;32melse\u001b[0m\u001b[0;34m:\u001b[0m\u001b[0;34m\u001b[0m\u001b[0;34m\u001b[0m\u001b[0m\n\u001b[1;32m    119\u001b[0m             \u001b[0mself\u001b[0m\u001b[0;34m.\u001b[0m\u001b[0mpreload\u001b[0m \u001b[0;34m=\u001b[0m \u001b[0;32mFalse\u001b[0m\u001b[0;34m\u001b[0m\u001b[0;34m\u001b[0m\u001b[0m\n",
      "\u001b[0;32m<decorator-gen-150>\u001b[0m in \u001b[0;36m_preload_data\u001b[0;34m(self, preload, verbose)\u001b[0m\n",
      "\u001b[0;32m/net/store/nbp/projects/hyperscanning/study_project/programming_tools/miniconda3/envs/hyperscanning/lib/python3.8/site-packages/mne/io/base.py\u001b[0m in \u001b[0;36m_preload_data\u001b[0;34m(self, preload, verbose)\u001b[0m\n\u001b[1;32m    486\u001b[0m         logger.info('Reading %d ... %d  =  %9.3f ... %9.3f secs...' %\n\u001b[1;32m    487\u001b[0m                     (0, len(self.times) - 1, 0., self.times[-1]))\n\u001b[0;32m--> 488\u001b[0;31m         \u001b[0mself\u001b[0m\u001b[0;34m.\u001b[0m\u001b[0m_data\u001b[0m \u001b[0;34m=\u001b[0m \u001b[0mself\u001b[0m\u001b[0;34m.\u001b[0m\u001b[0m_read_segment\u001b[0m\u001b[0;34m(\u001b[0m\u001b[0mdata_buffer\u001b[0m\u001b[0;34m=\u001b[0m\u001b[0mdata_buffer\u001b[0m\u001b[0;34m)\u001b[0m\u001b[0;34m\u001b[0m\u001b[0;34m\u001b[0m\u001b[0m\n\u001b[0m\u001b[1;32m    489\u001b[0m         \u001b[0;32massert\u001b[0m \u001b[0mlen\u001b[0m\u001b[0;34m(\u001b[0m\u001b[0mself\u001b[0m\u001b[0;34m.\u001b[0m\u001b[0m_data\u001b[0m\u001b[0;34m)\u001b[0m \u001b[0;34m==\u001b[0m \u001b[0mself\u001b[0m\u001b[0;34m.\u001b[0m\u001b[0minfo\u001b[0m\u001b[0;34m[\u001b[0m\u001b[0;34m'nchan'\u001b[0m\u001b[0;34m]\u001b[0m\u001b[0;34m\u001b[0m\u001b[0;34m\u001b[0m\u001b[0m\n\u001b[1;32m    490\u001b[0m         \u001b[0mself\u001b[0m\u001b[0;34m.\u001b[0m\u001b[0mpreload\u001b[0m \u001b[0;34m=\u001b[0m \u001b[0;32mTrue\u001b[0m\u001b[0;34m\u001b[0m\u001b[0;34m\u001b[0m\u001b[0m\n",
      "\u001b[0;32m<decorator-gen-148>\u001b[0m in \u001b[0;36m_read_segment\u001b[0;34m(self, start, stop, sel, data_buffer, projector, verbose)\u001b[0m\n",
      "\u001b[0;32m/net/store/nbp/projects/hyperscanning/study_project/programming_tools/miniconda3/envs/hyperscanning/lib/python3.8/site-packages/mne/io/base.py\u001b[0m in \u001b[0;36m_read_segment\u001b[0;34m(self, start, stop, sel, data_buffer, projector, verbose)\u001b[0m\n\u001b[1;32m    383\u001b[0m             \u001b[0mn_read\u001b[0m \u001b[0;34m=\u001b[0m \u001b[0mstop_file\u001b[0m \u001b[0;34m-\u001b[0m \u001b[0mstart_file\u001b[0m\u001b[0;34m\u001b[0m\u001b[0;34m\u001b[0m\u001b[0m\n\u001b[1;32m    384\u001b[0m             \u001b[0mthis_sl\u001b[0m \u001b[0;34m=\u001b[0m \u001b[0mslice\u001b[0m\u001b[0;34m(\u001b[0m\u001b[0moffset\u001b[0m\u001b[0;34m,\u001b[0m \u001b[0moffset\u001b[0m \u001b[0;34m+\u001b[0m \u001b[0mn_read\u001b[0m\u001b[0;34m)\u001b[0m\u001b[0;34m\u001b[0m\u001b[0;34m\u001b[0m\u001b[0m\n\u001b[0;32m--> 385\u001b[0;31m             self._read_segment_file(data[:, this_sl], idx, fi,\n\u001b[0m\u001b[1;32m    386\u001b[0m                                     \u001b[0mint\u001b[0m\u001b[0;34m(\u001b[0m\u001b[0mstart_file\u001b[0m\u001b[0;34m)\u001b[0m\u001b[0;34m,\u001b[0m \u001b[0mint\u001b[0m\u001b[0;34m(\u001b[0m\u001b[0mstop_file\u001b[0m\u001b[0;34m)\u001b[0m\u001b[0;34m,\u001b[0m\u001b[0;34m\u001b[0m\u001b[0;34m\u001b[0m\u001b[0m\n\u001b[1;32m    387\u001b[0m                                     cals, mult)\n",
      "\u001b[0;32m/net/store/nbp/projects/hyperscanning/study_project/programming_tools/miniconda3/envs/hyperscanning/lib/python3.8/site-packages/mne/io/fiff/raw.py\u001b[0m in \u001b[0;36m_read_segment_file\u001b[0;34m(self, data, idx, fi, start, stop, cals, mult)\u001b[0m\n\u001b[1;32m    354\u001b[0m                                    rlims=(first_pick, last_pick)).data\n\u001b[1;32m    355\u001b[0m                     \u001b[0mone\u001b[0m\u001b[0;34m.\u001b[0m\u001b[0mshape\u001b[0m \u001b[0;34m=\u001b[0m \u001b[0;34m(\u001b[0m\u001b[0mpicksamp\u001b[0m\u001b[0;34m,\u001b[0m \u001b[0mself\u001b[0m\u001b[0;34m.\u001b[0m\u001b[0minfo\u001b[0m\u001b[0;34m[\u001b[0m\u001b[0;34m'nchan'\u001b[0m\u001b[0;34m]\u001b[0m\u001b[0;34m)\u001b[0m\u001b[0;34m\u001b[0m\u001b[0;34m\u001b[0m\u001b[0m\n\u001b[0;32m--> 356\u001b[0;31m                     _mult_cal_one(data[:, offset:(offset + picksamp)],\n\u001b[0m\u001b[1;32m    357\u001b[0m                                   one.T, idx, cals, mult)\n\u001b[1;32m    358\u001b[0m                 \u001b[0moffset\u001b[0m \u001b[0;34m+=\u001b[0m \u001b[0mpicksamp\u001b[0m\u001b[0;34m\u001b[0m\u001b[0;34m\u001b[0m\u001b[0m\n",
      "\u001b[0;32m/net/store/nbp/projects/hyperscanning/study_project/programming_tools/miniconda3/envs/hyperscanning/lib/python3.8/site-packages/mne/io/utils.py\u001b[0m in \u001b[0;36m_mult_cal_one\u001b[0;34m(data_view, one, idx, cals, mult)\u001b[0m\n\u001b[1;32m     87\u001b[0m             \u001b[0mnp\u001b[0m\u001b[0;34m.\u001b[0m\u001b[0mtake\u001b[0m\u001b[0;34m(\u001b[0m\u001b[0mone\u001b[0m\u001b[0;34m,\u001b[0m \u001b[0midx\u001b[0m\u001b[0;34m,\u001b[0m \u001b[0maxis\u001b[0m\u001b[0;34m=\u001b[0m\u001b[0;36m0\u001b[0m\u001b[0;34m,\u001b[0m \u001b[0mout\u001b[0m\u001b[0;34m=\u001b[0m\u001b[0mdata_view\u001b[0m\u001b[0;34m)\u001b[0m\u001b[0;34m\u001b[0m\u001b[0;34m\u001b[0m\u001b[0m\n\u001b[1;32m     88\u001b[0m         \u001b[0;32mif\u001b[0m \u001b[0mcals\u001b[0m \u001b[0;32mis\u001b[0m \u001b[0;32mnot\u001b[0m \u001b[0;32mNone\u001b[0m\u001b[0;34m:\u001b[0m\u001b[0;34m\u001b[0m\u001b[0;34m\u001b[0m\u001b[0m\n\u001b[0;32m---> 89\u001b[0;31m             \u001b[0mdata_view\u001b[0m \u001b[0;34m*=\u001b[0m \u001b[0mcals\u001b[0m\u001b[0;34m\u001b[0m\u001b[0;34m\u001b[0m\u001b[0m\n\u001b[0m\u001b[1;32m     90\u001b[0m \u001b[0;34m\u001b[0m\u001b[0m\n\u001b[1;32m     91\u001b[0m \u001b[0;34m\u001b[0m\u001b[0m\n",
      "\u001b[0;31mKeyboardInterrupt\u001b[0m: "
     ]
    }
   ],
   "source": [
    "# define the subjects id and its path\n",
    "subj_id = \"sub-{0}_p-{1}\".format(subj_pair, participant)\n",
    "subs_path = subject_dir + \"sub-{0}/eeg/sub-{0}_task-hyper_eeg.fif\".format(subj_pair)\n",
    "\n",
    "## overwrite it for the test\n",
    "# TODO: This line should be removed for the actual cleaning\n",
    "subj_id = \"test_2\"\n",
    "\n",
    "# load the data\n",
    "combined_raw = mne.io.read_raw_fif(subs_path, preload=True)\n",
    "\n",
    "# split the subjects and delete the raw file\n",
    "raw = split_raws(combined_raw)[int(participant)]\n",
    "del combined_raw\n",
    "\n",
    "# set reference\n",
    "raw.set_eeg_reference([\"Cz\"])\n",
    "\n",
    "# filter ?\n",
    "raw.filter(l_freq=0.1, h_freq=120)\n",
    "raw.notch_filter(freqs=[16.666666667, 50]) # bandstop the train and power grid"
   ]
  },
  {
   "cell_type": "markdown",
   "metadata": {},
   "source": [
    "## Plot the data and clean it"
   ]
  },
  {
   "cell_type": "code",
   "execution_count": 14,
   "metadata": {
    "scrolled": false
   },
   "outputs": [
    {
     "name": "stdout",
     "output_type": "stream",
     "text": [
      "Loading preexisting marked channels\n",
      "Additionally marked channels will be added to file.\n",
      "Loading preexisting marked segments\n",
      "Additionally marked segments will be added to file.\n",
      "Plotting data. Click on channels to mark them as bad. Type 'a' to enter Annotations mode and mark bad segments.\n",
      "Close the plot to carry on with preprocessing.\n"
     ]
    },
    {
     "data": {
      "application/vnd.jupyter.widget-view+json": {
       "model_id": "3bdf1301213b42fbbbee93eea5487ced",
       "version_major": 2,
       "version_minor": 0
      },
      "text/plain": [
       "Canvas(toolbar=Toolbar(toolitems=[('Home', 'Reset original view', 'home', 'home'), ('Back', 'Back to previous …"
      ]
     },
     "metadata": {},
     "output_type": "display_data"
    },
    {
     "data": {
      "application/vnd.jupyter.widget-view+json": {
       "model_id": "b6846df2188e41a1a8dd86ffb8bf171a",
       "version_major": 2,
       "version_minor": 0
      },
      "text/plain": [
       "Canvas(toolbar=Toolbar(toolitems=[('Home', 'Reset original view', 'home', 'home'), ('Back', 'Back to previous …"
      ]
     },
     "metadata": {},
     "output_type": "display_data"
    },
    {
     "data": {
      "application/vnd.jupyter.widget-view+json": {
       "model_id": "7dfff48b48d24e7e89965646e4760fdd",
       "version_major": 2,
       "version_minor": 0
      },
      "text/plain": [
       "Canvas(toolbar=Toolbar(toolitems=[('Home', 'Reset original view', 'home', 'home'), ('Back', 'Back to previous …"
      ]
     },
     "metadata": {},
     "output_type": "display_data"
    }
   ],
   "source": [
    "# mark the channels and save them\n",
    "fig = mark_bads(raw, subj_id, sensor_map=True)\n",
    "fig.canvas.key_press_event('a')"
   ]
  },
  {
   "cell_type": "markdown",
   "metadata": {},
   "source": [
    "## Save the marked channels and segments"
   ]
  },
  {
   "cell_type": "code",
   "execution_count": 5,
   "metadata": {
    "scrolled": true
   },
   "outputs": [
    {
     "name": "stdout",
     "output_type": "stream",
     "text": [
      "Do you really want to save the data? Falsely marked data might be hard to remove.\n",
      "Enter 'save' or 's' to save the data. Else, changes will be discarded.\n",
      "sdfgh\n"
     ]
    }
   ],
   "source": [
    "save_bads(raw, subj_id)"
   ]
  },
  {
   "cell_type": "markdown",
   "metadata": {},
   "source": [
    "## Run (or load) the ICA and plot all components"
   ]
  },
  {
   "cell_type": "code",
   "execution_count": 6,
   "metadata": {},
   "outputs": [
    {
     "name": "stdout",
     "output_type": "stream",
     "text": [
      "Filtering raw data in 1 contiguous segment\n",
      "Setting up high-pass filter at 2 Hz\n",
      "\n",
      "FIR filter parameters\n",
      "---------------------\n",
      "Designing a one-pass, zero-phase, non-causal highpass filter:\n",
      "- Windowed time-domain design (firwin) method\n",
      "- Hamming window with 0.0194 passband ripple and 53 dB stopband attenuation\n",
      "- Lower passband edge: 2.00\n",
      "- Lower transition bandwidth: 2.00 Hz (-6 dB cutoff frequency: 1.00 Hz)\n",
      "- Filter length: 1691 samples (1.651 sec)\n",
      "\n",
      "Path to ICA file already exists.\n",
      "Delete the respective ICA file (/net/store/nbp/projects/hyperscanning/study_project/dirk/NBP_Hyperscanning/data_analysis/bads/bad_components/test_2-ica.fif)\n",
      "if you want to fit a new ICA.\n",
      " Loading existing ICA\n",
      "Reading /net/store/nbp/projects/hyperscanning/study_project/dirk/NBP_Hyperscanning/data_analysis/bads/bad_components/test_2-ica.fif ...\n",
      "Now restoring ICA solution ...\n",
      "Ready.\n"
     ]
    },
    {
     "data": {
      "application/vnd.jupyter.widget-view+json": {
       "model_id": "c536f467043b4824bf083cccff4ad795",
       "version_major": 2,
       "version_minor": 0
      },
      "text/plain": [
       "Canvas(toolbar=Toolbar(toolitems=[('Home', 'Reset original view', 'home', 'home'), ('Back', 'Back to previous …"
      ]
     },
     "metadata": {},
     "output_type": "display_data"
    },
    {
     "data": {
      "application/vnd.jupyter.widget-view+json": {
       "model_id": "b8dd145d10b34ab59f716884b9dfefb7",
       "version_major": 2,
       "version_minor": 0
      },
      "text/plain": [
       "Canvas(toolbar=Toolbar(toolitems=[('Home', 'Reset original view', 'home', 'home'), ('Back', 'Back to previous …"
      ]
     },
     "metadata": {},
     "output_type": "display_data"
    }
   ],
   "source": [
    "# filter again for ICA\n",
    "raw.filter(l_freq=2, h_freq=None)\n",
    "\n",
    "# run the ICA and save the marked components\n",
    "ica = run_ica(raw, subj_id, n_components=25, method=\"fastica\")"
   ]
  },
  {
   "cell_type": "markdown",
   "metadata": {},
   "source": [
    "## Choose specific component properties to inspect"
   ]
  },
  {
   "cell_type": "code",
   "execution_count": 7,
   "metadata": {
    "scrolled": false
   },
   "outputs": [
    {
     "name": "stdout",
     "output_type": "stream",
     "text": [
      "Please type in which components you want to further inspect.\n",
      "E.G. 3, 4,15 for components 3, 4, and 15.\n",
      "\n"
     ]
    }
   ],
   "source": [
    "if len(ica.ch_names) > 64 - len(raw.info[\"bads\"]):\n",
    "    raise ValueError(\"\\nYou excluded additional channels from the raw \"\n",
    "                     \"file since the initial fit of the ICA.\\n\"\n",
    "                     \"Because of this, the property plots won't work.\\n\"\n",
    "                     \"You might consider deleting the current ICA file \"\n",
    "                     \"and running a new ICA on the remaining channels.\\n\")\n",
    "\n",
    "# FIXME: We (temporarily) ignore bad segments in order to\n",
    "#  inspect elements in the ICA, which cannot be done ATM\n",
    "#  probably due to a bug in MNE. However it would be better to\n",
    "#  remove the bad segments instead.\n",
    "raw_tmp = raw.copy().set_annotations(None)\n",
    "\n",
    "\n",
    "inp = input(\"Please type in which components you want to further \"\n",
    "            \"inspect.\\nE.G. 3, 4,15 for components 3, 4, and 15.\\n\")\n",
    "\n",
    "inp = [int(n) for n in inp.split(\",\") if n != \"\"]\n",
    "\n",
    "if len(inp) > 0:\n",
    "    ica.plot_properties(raw_tmp, picks=inp, reject=None)\n",
    "    \n",
    "del raw_tmp"
   ]
  },
  {
   "cell_type": "markdown",
   "metadata": {},
   "source": [
    "## Exclude specific ICA components"
   ]
  },
  {
   "cell_type": "code",
   "execution_count": 8,
   "metadata": {
    "scrolled": false
   },
   "outputs": [
    {
     "name": "stdout",
     "output_type": "stream",
     "text": [
      "Excluded ICA components:  [1, 2, 3, 4]\n",
      "\n",
      "Please type in which components you want to exclude.\n",
      "E.G. 2, 3,14 for components 2, 3, and 14.\n",
      "\n",
      "\n",
      "Excluded ICA components:  [1, 2, 3, 4]\n"
     ]
    }
   ],
   "source": [
    "print(\"Excluded ICA components: \", ica.exclude)\n",
    "\n",
    "inp = input(\"\\nPlease type in which components you want to exclude.\\n\"\n",
    "            \"E.G. 2, 3,14 for components 2, 3, and 14.\\n\")\n",
    "\n",
    "bad_comps = [int(comp) for comp in inp.split(\",\") if comp != \"\"]\n",
    "bad_comps = [comp for comp in set(bad_comps) if comp not in ica.exclude]\n",
    "\n",
    "ica.exclude.extend(bad_comps)\n",
    "print(\"\\nExcluded ICA components: \", ica.exclude)"
   ]
  },
  {
   "cell_type": "markdown",
   "metadata": {},
   "source": [
    "## Save the ICA and its excluded components"
   ]
  },
  {
   "cell_type": "code",
   "execution_count": 9,
   "metadata": {},
   "outputs": [
    {
     "name": "stdout",
     "output_type": "stream",
     "text": [
      "Do you really want to save the components?\n",
      "Enter 'save' or 's' to save the data. Else, changes will be discarded.\n",
      "g\n"
     ]
    }
   ],
   "source": [
    "inp = input(\"Do you really want to save the components?\\n\"\n",
    "            \"Enter 'save' or 's' to save the data. Else, \"\n",
    "            \"changes will be discarded.\\n\")\n",
    "\n",
    "if inp[0] == \"s\":\n",
    "    save_ica(ica, subj_id)"
   ]
  },
  {
   "cell_type": "markdown",
   "metadata": {},
   "source": [
    "### give everyone access to the new marked files you've created"
   ]
  },
  {
   "cell_type": "code",
   "execution_count": 10,
   "metadata": {},
   "outputs": [],
   "source": [
    "!cd /net/store/nbp/projects/hyperscanning/study_project\n",
    "!chown -hR $USER:nbp *; chmod -R 770 *"
   ]
  },
  {
   "cell_type": "markdown",
   "metadata": {},
   "source": [
    "\n",
    "\n",
    "### Everything done. Thanks for cleaning :)"
   ]
  }
 ],
 "metadata": {
  "kernelspec": {
   "display_name": "Python 3",
   "language": "python",
   "name": "python3"
  },
  "language_info": {
   "codemirror_mode": {
    "name": "ipython",
    "version": 3
   },
   "file_extension": ".py",
   "mimetype": "text/x-python",
   "name": "python",
   "nbconvert_exporter": "python",
   "pygments_lexer": "ipython3",
   "version": "3.8.2"
  }
 },
 "nbformat": 4,
 "nbformat_minor": 4
}
