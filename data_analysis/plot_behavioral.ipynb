{
 "cells": [
  {
   "cell_type": "markdown",
   "metadata": {},
   "source": [
    "# plot behavioral data\n",
    "\n",
    "An older version used to plot behavioral data"
   ]
  },
  {
   "cell_type": "code",
   "execution_count": 14,
   "metadata": {},
   "outputs": [
    {
     "data": {
      "text/plain": [
       "'\\npair = 202\\nparticipant = 0\\n\\n# 1.2 define the subjects id and its path\\nsubj_id = \"sub-{0}_p-{1}\".format(pair, participant)\\nsubs_path = subject_dir + \"sub-{0}/eeg/sub-{0}_task-hyper_eeg.fif\".format(pair)\\nbehav_path = op.join(behav_dir, str(pair) + \".csv\")\\n\\n# load the data\\ncombined_raw = mne.io.read_raw_fif(subs_path, preload=True)\\n'"
      ]
     },
     "execution_count": 14,
     "metadata": {},
     "output_type": "execute_result"
    }
   ],
   "source": [
    "import sys\n",
    "import os.path as op\n",
    "    \n",
    "import numpy as np\n",
    "import pandas as pd\n",
    "import mne\n",
    "import matplotlib.pyplot as plt\n",
    "import pickle\n",
    "\n",
    "module_path = op.abspath(op.join('..'))\n",
    "if module_path not in sys.path:\n",
    "    sys.path.append(module_path)\n",
    "    \n",
    "from data_analysis.functions_preprocessing import split_raws\n",
    "\n",
    "from data_analysis.functions_behavioral import \\\n",
    "    (create_event_df, remove_ghost_triggers, calculate_alpha,\n",
    "     join_event_dfs, remove_outliers, events_from_event_df)\n",
    "\n",
    "# Create path to the folder \"behavioral\"\n",
    "behav_dir = \"/net/store/nbp/projects/hyperscanning/study_project/NBP_Hyperscanning/data_analysis/behavioral_data\"\n",
    "\n",
    "subject_dir = '/net/store/nbp/projects/hyperscanning/hyperscanning-2.0/mne_data/sourcedata/'\n",
    "\n",
    "\"\"\"\n",
    "pair = 202\n",
    "participant = 0\n",
    "\n",
    "# 1.2 define the subjects id and its path\n",
    "subj_id = \"sub-{0}_p-{1}\".format(pair, participant)\n",
    "subs_path = subject_dir + \"sub-{0}/eeg/sub-{0}_task-hyper_eeg.fif\".format(pair)\n",
    "behav_path = op.join(behav_dir, str(pair) + \".csv\")\n",
    "\n",
    "# load the data\n",
    "combined_raw = mne.io.read_raw_fif(subs_path, preload=True)\n",
    "\"\"\""
   ]
  },
  {
   "cell_type": "code",
   "execution_count": 15,
   "metadata": {},
   "outputs": [
    {
     "name": "stdout",
     "output_type": "stream",
     "text": [
      "Pair 202 - Percent of incorrect trials: 6.0%\n",
      "Pair 203 - Percent of incorrect trials: 9.333333333333334%\n",
      "Pair 204 - Percent of incorrect trials: 11.333333333333332%\n",
      "Pair 205 - Percent of incorrect trials: 3.3333333333333335%\n",
      "Pair 206 - Percent of incorrect trials: 10.666666666666668%\n",
      "Pair 207 - Percent of incorrect trials: 9.666666666666666%\n",
      "Pair 208 - Percent of incorrect trials: 18.666666666666668%\n",
      "Pair 209 - Percent of incorrect trials: 8.666666666666668%\n",
      "Pair 211 - Percent of incorrect trials: 25.0%\n",
      "Pair 212 - Percent of incorrect trials: 31.333333333333336%\n",
      "All subs - Percent of incorrect trials: 13.4 %\n"
     ]
    }
   ],
   "source": [
    "all_subs = pd.DataFrame()\n",
    "\n",
    "bad_list = []\n",
    "for subs in ['202','203','204','205','206','207','208','209','211','212']:\n",
    "    behav_path = op.join(behav_dir, \"{}.csv\".format(subs))#test\n",
    "    \n",
    "    # calculate the alpha on all trials\n",
    "    df = calculate_alpha(pd.read_csv(behav_path))\n",
    "    \n",
    "    # our filtering condition: take vp 1 for odd trials and vp 2 for even trials\n",
    "    df = df[df[\"trial\"]%2 != df[\"subject\"] - 1]\n",
    "    \n",
    "    bad_trls = len(df[df[\"alpha\"] > 360][\"trial\"].unique())\n",
    "    per_a = bad_trls / df[\"trial\"].max() * 100\n",
    "    print(\"Pair {0} - Percent of incorrect trials: {1}%\".format(subs, per_a))\n",
    "    \n",
    "    bad_list.append(per_a)\n",
    "    all_subs = all_subs.append(df)\n",
    "    \n",
    "\n",
    "all_subs[\"unique_trials\"] = all_subs[\"pair\"].astype(str) + \"-\" + all_subs[\"trial\"].astype(str)\n",
    "bad_trls = len(all_subs[all_subs[\"alpha\"] > 360][\"unique_trials\"].unique())\n",
    "per_a = bad_trls / len(all_subs[\"unique_trials\"].unique()) * 100\n",
    "print(\"All subs - Percent of incorrect trials: {0} %\".format(per_a))\n",
    "# reset index\n",
    "all_subs.index = range(len(all_subs))\n",
    "#print(all_subs[\"unique_trials\"])"
   ]
  },
  {
   "cell_type": "code",
   "execution_count": 16,
   "metadata": {},
   "outputs": [
    {
     "data": {
      "text/html": [
       "<div>\n",
       "<style scoped>\n",
       "    .dataframe tbody tr th:only-of-type {\n",
       "        vertical-align: middle;\n",
       "    }\n",
       "\n",
       "    .dataframe tbody tr th {\n",
       "        vertical-align: top;\n",
       "    }\n",
       "\n",
       "    .dataframe thead th {\n",
       "        text-align: right;\n",
       "    }\n",
       "</style>\n",
       "<table border=\"1\" class=\"dataframe\">\n",
       "  <thead>\n",
       "    <tr style=\"text-align: right;\">\n",
       "      <th></th>\n",
       "      <th>pair</th>\n",
       "      <th>condition</th>\n",
       "      <th>block</th>\n",
       "      <th>trial</th>\n",
       "      <th>subject</th>\n",
       "      <th>tapnr</th>\n",
       "      <th>ttap</th>\n",
       "      <th>jitter</th>\n",
       "      <th>player_start_first</th>\n",
       "      <th>diff_inter</th>\n",
       "      <th>diff_intra</th>\n",
       "      <th>alpha</th>\n",
       "      <th>alpha_lin</th>\n",
       "      <th>unique_trials</th>\n",
       "    </tr>\n",
       "  </thead>\n",
       "  <tbody>\n",
       "    <tr>\n",
       "      <th>76</th>\n",
       "      <td>202</td>\n",
       "      <td>blind</td>\n",
       "      <td>1</td>\n",
       "      <td>9</td>\n",
       "      <td>1</td>\n",
       "      <td>5</td>\n",
       "      <td>7.236328</td>\n",
       "      <td>0.075</td>\n",
       "      <td>1</td>\n",
       "      <td>-0.829144</td>\n",
       "      <td>0.810793</td>\n",
       "      <td>368.148058</td>\n",
       "      <td>8.148058</td>\n",
       "      <td>202-9</td>\n",
       "    </tr>\n",
       "    <tr>\n",
       "      <th>78</th>\n",
       "      <td>202</td>\n",
       "      <td>blind</td>\n",
       "      <td>1</td>\n",
       "      <td>9</td>\n",
       "      <td>1</td>\n",
       "      <td>7</td>\n",
       "      <td>8.932238</td>\n",
       "      <td>0.075</td>\n",
       "      <td>1</td>\n",
       "      <td>-0.872157</td>\n",
       "      <td>0.857896</td>\n",
       "      <td>365.984364</td>\n",
       "      <td>5.984364</td>\n",
       "      <td>202-9</td>\n",
       "    </tr>\n",
       "    <tr>\n",
       "      <th>79</th>\n",
       "      <td>202</td>\n",
       "      <td>blind</td>\n",
       "      <td>1</td>\n",
       "      <td>9</td>\n",
       "      <td>1</td>\n",
       "      <td>8</td>\n",
       "      <td>9.790134</td>\n",
       "      <td>0.075</td>\n",
       "      <td>1</td>\n",
       "      <td>-0.899273</td>\n",
       "      <td>0.809975</td>\n",
       "      <td>399.689234</td>\n",
       "      <td>39.689234</td>\n",
       "      <td>202-9</td>\n",
       "    </tr>\n",
       "    <tr>\n",
       "      <th>91</th>\n",
       "      <td>202</td>\n",
       "      <td>blind</td>\n",
       "      <td>1</td>\n",
       "      <td>11</td>\n",
       "      <td>1</td>\n",
       "      <td>2</td>\n",
       "      <td>4.665786</td>\n",
       "      <td>0.100</td>\n",
       "      <td>2</td>\n",
       "      <td>-1.208054</td>\n",
       "      <td>0.994704</td>\n",
       "      <td>437.214950</td>\n",
       "      <td>77.214950</td>\n",
       "      <td>202-11</td>\n",
       "    </tr>\n",
       "    <tr>\n",
       "      <th>171</th>\n",
       "      <td>202</td>\n",
       "      <td>blind</td>\n",
       "      <td>1</td>\n",
       "      <td>20</td>\n",
       "      <td>2</td>\n",
       "      <td>1</td>\n",
       "      <td>4.929792</td>\n",
       "      <td>0.050</td>\n",
       "      <td>1</td>\n",
       "      <td>1.256341</td>\n",
       "      <td>0.822949</td>\n",
       "      <td>549.587713</td>\n",
       "      <td>170.412287</td>\n",
       "      <td>202-20</td>\n",
       "    </tr>\n",
       "    <tr>\n",
       "      <th>...</th>\n",
       "      <td>...</td>\n",
       "      <td>...</td>\n",
       "      <td>...</td>\n",
       "      <td>...</td>\n",
       "      <td>...</td>\n",
       "      <td>...</td>\n",
       "      <td>...</td>\n",
       "      <td>...</td>\n",
       "      <td>...</td>\n",
       "      <td>...</td>\n",
       "      <td>...</td>\n",
       "      <td>...</td>\n",
       "      <td>...</td>\n",
       "      <td>...</td>\n",
       "    </tr>\n",
       "    <tr>\n",
       "      <th>26799</th>\n",
       "      <td>212</td>\n",
       "      <td>blind</td>\n",
       "      <td>12</td>\n",
       "      <td>278</td>\n",
       "      <td>2</td>\n",
       "      <td>7</td>\n",
       "      <td>6.272013</td>\n",
       "      <td>0.050</td>\n",
       "      <td>2</td>\n",
       "      <td>0.735059</td>\n",
       "      <td>0.360615</td>\n",
       "      <td>733.805408</td>\n",
       "      <td>13.805408</td>\n",
       "      <td>212-278</td>\n",
       "    </tr>\n",
       "    <tr>\n",
       "      <th>26800</th>\n",
       "      <td>212</td>\n",
       "      <td>blind</td>\n",
       "      <td>12</td>\n",
       "      <td>278</td>\n",
       "      <td>2</td>\n",
       "      <td>8</td>\n",
       "      <td>6.632628</td>\n",
       "      <td>0.050</td>\n",
       "      <td>2</td>\n",
       "      <td>0.741067</td>\n",
       "      <td>0.367277</td>\n",
       "      <td>726.384307</td>\n",
       "      <td>6.384307</td>\n",
       "      <td>212-278</td>\n",
       "    </tr>\n",
       "    <tr>\n",
       "      <th>26856</th>\n",
       "      <td>212</td>\n",
       "      <td>blind</td>\n",
       "      <td>12</td>\n",
       "      <td>285</td>\n",
       "      <td>1</td>\n",
       "      <td>1</td>\n",
       "      <td>4.217153</td>\n",
       "      <td>0.100</td>\n",
       "      <td>2</td>\n",
       "      <td>0.799759</td>\n",
       "      <td>0.414336</td>\n",
       "      <td>694.878836</td>\n",
       "      <td>25.121164</td>\n",
       "      <td>212-285</td>\n",
       "    </tr>\n",
       "    <tr>\n",
       "      <th>26910</th>\n",
       "      <td>212</td>\n",
       "      <td>blind</td>\n",
       "      <td>12</td>\n",
       "      <td>291</td>\n",
       "      <td>1</td>\n",
       "      <td>1</td>\n",
       "      <td>3.904741</td>\n",
       "      <td>0.100</td>\n",
       "      <td>2</td>\n",
       "      <td>0.623695</td>\n",
       "      <td>0.394126</td>\n",
       "      <td>569.691413</td>\n",
       "      <td>150.308587</td>\n",
       "      <td>212-291</td>\n",
       "    </tr>\n",
       "    <tr>\n",
       "      <th>26964</th>\n",
       "      <td>212</td>\n",
       "      <td>blind</td>\n",
       "      <td>12</td>\n",
       "      <td>297</td>\n",
       "      <td>1</td>\n",
       "      <td>1</td>\n",
       "      <td>4.191090</td>\n",
       "      <td>0.075</td>\n",
       "      <td>1</td>\n",
       "      <td>0.440862</td>\n",
       "      <td>0.428666</td>\n",
       "      <td>370.242437</td>\n",
       "      <td>10.242437</td>\n",
       "      <td>212-297</td>\n",
       "    </tr>\n",
       "  </tbody>\n",
       "</table>\n",
       "<p>1216 rows × 14 columns</p>\n",
       "</div>"
      ],
      "text/plain": [
       "       pair condition  block  trial  subject  tapnr      ttap  jitter  \\\n",
       "76      202     blind      1      9        1      5  7.236328   0.075   \n",
       "78      202     blind      1      9        1      7  8.932238   0.075   \n",
       "79      202     blind      1      9        1      8  9.790134   0.075   \n",
       "91      202     blind      1     11        1      2  4.665786   0.100   \n",
       "171     202     blind      1     20        2      1  4.929792   0.050   \n",
       "...     ...       ...    ...    ...      ...    ...       ...     ...   \n",
       "26799   212     blind     12    278        2      7  6.272013   0.050   \n",
       "26800   212     blind     12    278        2      8  6.632628   0.050   \n",
       "26856   212     blind     12    285        1      1  4.217153   0.100   \n",
       "26910   212     blind     12    291        1      1  3.904741   0.100   \n",
       "26964   212     blind     12    297        1      1  4.191090   0.075   \n",
       "\n",
       "       player_start_first  diff_inter  diff_intra       alpha   alpha_lin  \\\n",
       "76                      1   -0.829144    0.810793  368.148058    8.148058   \n",
       "78                      1   -0.872157    0.857896  365.984364    5.984364   \n",
       "79                      1   -0.899273    0.809975  399.689234   39.689234   \n",
       "91                      2   -1.208054    0.994704  437.214950   77.214950   \n",
       "171                     1    1.256341    0.822949  549.587713  170.412287   \n",
       "...                   ...         ...         ...         ...         ...   \n",
       "26799                   2    0.735059    0.360615  733.805408   13.805408   \n",
       "26800                   2    0.741067    0.367277  726.384307    6.384307   \n",
       "26856                   2    0.799759    0.414336  694.878836   25.121164   \n",
       "26910                   2    0.623695    0.394126  569.691413  150.308587   \n",
       "26964                   1    0.440862    0.428666  370.242437   10.242437   \n",
       "\n",
       "      unique_trials  \n",
       "76            202-9  \n",
       "78            202-9  \n",
       "79            202-9  \n",
       "91           202-11  \n",
       "171          202-20  \n",
       "...             ...  \n",
       "26799       212-278  \n",
       "26800       212-278  \n",
       "26856       212-285  \n",
       "26910       212-291  \n",
       "26964       212-297  \n",
       "\n",
       "[1216 rows x 14 columns]"
      ]
     },
     "execution_count": 16,
     "metadata": {},
     "output_type": "execute_result"
    }
   ],
   "source": [
    "# get all taps where one person tapped twice before the other person did\n",
    "all_subs[all_subs[\"alpha\"] > 360]"
   ]
  },
  {
   "cell_type": "code",
   "execution_count": 17,
   "metadata": {},
   "outputs": [
    {
     "data": {
      "text/plain": [
       "231"
      ]
     },
     "execution_count": 17,
     "metadata": {},
     "output_type": "execute_result"
    }
   ],
   "source": [
    "# get all the trials that were affected by these double taps\n",
    "len(all_subs[all_subs[\"alpha\"] > 360][\"trial\"].unique())"
   ]
  },
  {
   "cell_type": "markdown",
   "metadata": {},
   "source": [
    "# Behavioral Plots"
   ]
  },
  {
   "cell_type": "code",
   "execution_count": 18,
   "metadata": {},
   "outputs": [],
   "source": [
    "# import statsmodels.api as sm\n",
    "from scipy import stats\n",
    "from data_analysis.functions_behavioral import \\\n",
    "    (create_event_df, remove_ghost_triggers, calculate_alpha,\n",
    "     join_event_dfs, remove_outliers, events_from_event_df)\n",
    "\n",
    "# set basic parameters:\n",
    "bin_size = int(np.ceil(np.sqrt(len(all_subs))))\n",
    "\n",
    "\n",
    "\n",
    "\n",
    "# set path to save plots\n",
    "\n",
    "behav_plots = \"/net/store/nbp/projects/hyperscanning/study_project/til/behavioral_plots/\"\n"
   ]
  },
  {
   "cell_type": "code",
   "execution_count": 19,
   "metadata": {},
   "outputs": [
    {
     "data": {
      "text/plain": [
       "165"
      ]
     },
     "execution_count": 19,
     "metadata": {},
     "output_type": "execute_result"
    }
   ],
   "source": [
    "bin_size"
   ]
  },
  {
   "cell_type": "markdown",
   "metadata": {},
   "source": [
    "## 1 - Boxplot of incorrect trial distribution"
   ]
  },
  {
   "cell_type": "code",
   "execution_count": 20,
   "metadata": {},
   "outputs": [
    {
     "data": {
      "image/png": "[encoded data removed]",
      "text/plain": [
       "<Figure size 432x288 with 1 Axes>"
      ]
     },
     "metadata": {
      "needs_background": "light"
     },
     "output_type": "display_data"
    }
   ],
   "source": [
    "# Boxplot of incorrect trial distribution\n",
    "# display(np.median(bad_list))\n",
    "plt.boxplot(bad_list)\n",
    "plt.ylabel('Percent')\n",
    "plt.xlabel('Incorrect trials')\n",
    "plt.title('Distribution of Incorrect Trials over Subjects')\n",
    "plt.tick_params(\n",
    "    axis='x',          # changes apply to the x-axis\n",
    "    which='both',      # both major and minor ticks are affected\n",
    "    bottom=False,      # ticks along the bottom edge are off\n",
    "    top=False,         # ticks along the top edge are off\n",
    "    labelbottom=False) # labels along the bottom edge are off\n",
    "\n",
    "\n",
    "# create and save fig object\n",
    "bad_trials = plt.gcf()\n",
    "\n",
    "#pickle.dump(bad_trials, open(behav_plots + \"bad_trials.p\", \"wb\"))"
   ]
  },
  {
   "cell_type": "markdown",
   "metadata": {},
   "source": [
    "## 2 - Distribution of all valid alphas"
   ]
  },
  {
   "cell_type": "code",
   "execution_count": 21,
   "metadata": {
    "scrolled": true
   },
   "outputs": [
    {
     "data": {
      "image/png": "[encoded data removed]",
      "text/plain": [
       "<Figure size 432x288 with 1 Axes>"
      ]
     },
     "metadata": {
      "needs_background": "light"
     },
     "output_type": "display_data"
    }
   ],
   "source": [
    "# get the distribution of valid alphas\n",
    "#all_subs[all_subs[\"alpha\"] <= 360][\"alpha_lin\"].plot.hist(bins=len(all_subs)//20)\n",
    "all_subs[all_subs[\"alpha\"] <= 360][\"alpha_lin\"].plot.hist(bins=bin_size)\n",
    "plt.xlabel('Alpha (linearised)')\n",
    "plt.ylabel('Occurance')\n",
    "plt.title('All valid alphas (alpha<360°)')\n",
    "# create fig object\n",
    "alpha_all = plt.gcf()\n",
    "# save fig object\n",
    "#pickle.dump(alpha_all, open(behav_plots + \"alpha_all.p\", 'wb'))"
   ]
  },
  {
   "cell_type": "code",
   "execution_count": 22,
   "metadata": {},
   "outputs": [
    {
     "data": {
      "text/plain": [
       "165.0"
      ]
     },
     "execution_count": 22,
     "metadata": {},
     "output_type": "execute_result"
    }
   ],
   "source": [
    "np.ceil(np.sqrt(len(all_subs)))"
   ]
  },
  {
   "cell_type": "markdown",
   "metadata": {},
   "source": [
    "## 3 - Distribution of all valid alphas per tapnr"
   ]
  },
  {
   "cell_type": "code",
   "execution_count": 39,
   "metadata": {
    "scrolled": true
   },
   "outputs": [
    {
     "data": {
      "image/png": "[encoded data removed]",
      "text/plain": [
       "<Figure size 432x288 with 1 Axes>"
      ]
     },
     "metadata": {
      "needs_background": "light"
     },
     "output_type": "display_data"
    }
   ],
   "source": [
    "small_subs = all_subs[all_subs[\"alpha\"] <= 360]\n",
    "\n",
    "small_subs.groupby(\"tapnr\")[\"alpha_lin\"].plot.hist(bins=bin_size, alpha=0.4)\n",
    "plt.legend(['Tap 1','Tap 2','Tap 3','Tap 4','Tap 5','Tap 6','Tap 7','Tap 8'])\n",
    "plt.xlabel('Alpha(linearised)')\n",
    "plt.ylabel(\"Occurance\")\n",
    "plt.title('Valid alphas (alpha<360°) - tapwise')\n",
    "\n",
    "# create fig object\n",
    "alpha_tapwise = plt.gcf()\n",
    "# save fig object\n",
    "#pickle.dump(alpha_tapwise, open(behav_plots + \"alpha_tapwise.p\", 'wb'))"
   ]
  },
  {
   "cell_type": "markdown",
   "metadata": {},
   "source": [
    "## 4 - Taps in first 1.5 seconds vs. last 1.5 seconds"
   ]
  },
  {
   "cell_type": "code",
   "execution_count": 24,
   "metadata": {},
   "outputs": [],
   "source": [
    "# save time of first and last tap per trial in dataframe\n",
    "first_tap = all_subs.index - all_subs.index[all_subs.index%9]\n",
    "all_subs[\"first_tap\"] = all_subs[\"ttap\"][first_tap].to_numpy()\n",
    "last_tap = all_subs.index - all_subs.index[(all_subs.index%9)] +8\n",
    "all_subs[\"last_tap\"] = all_subs[\"ttap\"][last_tap].to_numpy()\n",
    "\n",
    "\n",
    "# TODO: Perform a Shapiro-Wilk normality test\n",
    "# TODO: Test H0"
   ]
  },
  {
   "cell_type": "code",
   "execution_count": 35,
   "metadata": {
    "scrolled": false
   },
   "outputs": [
    {
     "data": {
      "text/plain": [
       "6368"
      ]
     },
     "execution_count": 35,
     "metadata": {},
     "output_type": "execute_result"
    },
    {
     "data": {
      "image/png": "[encoded data removed]",
      "text/plain": [
       "<Figure size 432x288 with 1 Axes>"
      ]
     },
     "metadata": {
      "needs_background": "light"
     },
     "output_type": "display_data"
    }
   ],
   "source": [
    "# only use alpha values of correct trials\n",
    "all_subs = all_subs[all_subs[\"alpha\"] <= 360]\n",
    "\n",
    "# Plot those alpha values that occur within the range of first tap + 1.5s and last tap - 1.5s (of each trial)\n",
    "all_subs[all_subs[\"ttap\"] <= all_subs.first_tap+1.5 ][\"alpha_lin\"].plot.hist(bins=bin_size)\n",
    "all_subs[all_subs[\"ttap\"] >= all_subs.last_tap-1.5 ][\"alpha_lin\"].plot.hist(bins=bin_size)\n",
    "plt.suptitle('Early vs. late taps')\n",
    "plt.legend(['First 1.5s','Last 1.5s'])\n",
    "plt.xlabel('Alpha (linearised)')\n",
    "plt.ylabel('Occurance')\n",
    "\n",
    "# create fig object\n",
    "early_vs_late_taps = plt.gcf()\n",
    "# save fig object\n",
    "#pickle.dump(early_vs_late_taps, open(behav_plots + \"early_vs_late.p\", 'wb'))\n",
    "\n",
    "len(all_subs[all_subs[\"ttap\"] >= all_subs.last_tap-1.5 ][\"alpha_lin\"])"
   ]
  },
  {
   "cell_type": "code",
   "execution_count": 44,
   "metadata": {},
   "outputs": [
    {
     "data": {
      "image/png": "[encoded data removed]",
      "text/plain": [
       "<Figure size 1080x360 with 2 Axes>"
      ]
     },
     "metadata": {
      "needs_background": "light"
     },
     "output_type": "display_data"
    }
   ],
   "source": [
    "# only use alpha values of correct trials\n",
    "all_subs = all_subs[all_subs[\"alpha\"] <= 360]\n",
    "\n",
    "# Plot those alpha values that occur within the range of first tap + 1.5s and last tap - 1.5s (of each trial)\n",
    "first = all_subs[all_subs[\"ttap\"] <= all_subs.first_tap+1.5 ]\n",
    "first_mean = np.mean(first[\"alpha_lin\"])\n",
    "first_median = np.median(first[\"alpha_lin\"])\n",
    "first_mode,xyz = stats.mode(np.around(first[\"alpha_lin\"], decimals=2))\n",
    "#first_mode = max(first[\"alpha_lin\"], key = first[\"alpha_lin\"].count)\n",
    "\n",
    "\n",
    "last = all_subs[all_subs[\"ttap\"] >= all_subs.last_tap-1.5 ]\n",
    "last_mean = np.mean(last[\"alpha_lin\"])\n",
    "last_median = np.median(last[\"alpha_lin\"])\n",
    "last_mode,xyz2 = stats.mode(np.around(last[\"alpha_lin\"], decimals=2))\n",
    "\n",
    "fig, axes = plt.subplots(nrows=1, ncols=2, figsize=(15,5), sharey=True, sharex=True)\n",
    "plt.suptitle('Early vs. late taps')\n",
    "first[\"alpha_lin\"].plot.hist(bins=bin_size, ax = axes[0], logx=True)\n",
    "last[\"alpha_lin\"].plot.hist(bins=bin_size, ax = axes[1], color='orange', logx=True)\n",
    "\n",
    "axes[0].set_xlabel(\"Alpha (linearised)\")\n",
    "axes[0].set_ylabel(\"Occurance\")\n",
    "axes[0].set_title(\"First 1.5 seconds\")\n",
    "axes[1].set_xlabel(\"Alpha (linearised)\")\n",
    "axes[1].set_title(\"Last 1.5 seconds\")\n",
    "\n",
    "names = [\"mode\", \"median\", \"mean\"]\n",
    "colors = ['red', 'blue', 'green']\n",
    "first_measurement = [first_mode, first_median, first_mean]\n",
    "last_measurement = [last_mode, last_median, last_mean]\n",
    "\n",
    "\n",
    "#axes[0].axvline(x=first_median, linestyle='--', linewidth=2.5, label='median', c='green')\n",
    "#axes[0].axvline(x=first_mean, linestyle='--', linewidth=2.5, label='mean', c='blue')\n",
    "#axes[0].axvline(x=first_mode, linestyle='--', linewidth=2.5, label='mode', c='red')\n",
    "\n",
    "\n",
    "\n",
    "\n",
    "\n",
    "for first_measurement, name, color in zip(first_measurement, names, colors):\n",
    "    axes[0].axvline(x=first_measurement, linestyle='--', linewidth=2.5, \n",
    "                label='{0} at {1}'.format(name, first_measurement), c=color)\n",
    "axes[0].legend();\n",
    "\n",
    "for last_measurement, name, color in zip(last_measurement, names, colors):\n",
    "    axes[1].axvline(x=last_measurement, linestyle='--', linewidth=2.5, \n",
    "                label='{0} at {1}'.format(name, last_measurement), c=color)\n",
    "axes[1].legend();\n",
    "\n",
    "\n",
    "# create fig object\n",
    "#early_vs_late_taps = plt.gcf()\n",
    "# save fig object\n",
    "#pickle.dump(early_vs_late_taps, open(behav_plots + \"early_vs_late.p\", 'wb'))\n",
    "\n",
    "#len(all_subs[all_subs[\"ttap\"] >= all_subs.last_tap-1.5 ][\"alpha_lin\"])"
   ]
  },
  {
   "cell_type": "markdown",
   "metadata": {},
   "source": [
    "### 4.2 early vs. late - pairwise"
   ]
  },
  {
   "cell_type": "markdown",
   "metadata": {},
   "source": [
    "### 4.3 - Statistics"
   ]
  },
  {
   "cell_type": "code",
   "execution_count": 27,
   "metadata": {},
   "outputs": [
    {
     "name": "stdout",
     "output_type": "stream",
     "text": [
      "Alpha values of first taps are not normal distributed\n",
      "Alpha values of last taps are not normal distributed\n",
      "reject H0\n"
     ]
    },
    {
     "name": "stderr",
     "output_type": "stream",
     "text": [
      "/net/store/nbp/projects/hyperscanning/study_project/programming_tools/miniconda3/envs/hyperscanning/lib/python3.8/site-packages/scipy/stats/morestats.py:1676: UserWarning: p-value may not be accurate for N > 5000.\n",
      "  warnings.warn(\"p-value may not be accurate for N > 5000.\")\n"
     ]
    }
   ],
   "source": [
    "all_subs = all_subs[all_subs[\"alpha\"] <= 360]\n",
    "\n",
    "first_taps = all_subs[all_subs[\"ttap\"] <= all_subs.first_tap+1.5 ][\"alpha_lin\"]\n",
    "last_taps = all_subs[all_subs[\"ttap\"] >= all_subs.last_tap-1.5 ][\"alpha_lin\"]\n",
    "\n",
    "#ks, p = kstest(first_taps, \"norm\")\n",
    "\n",
    "alpha_level = .05\n",
    "shap_f, p_f = stats.shapiro(first_taps)\n",
    "shap_l, p_l = stats.shapiro(last_taps)\n",
    "\n",
    "\n",
    "if p_f < alpha_level:\n",
    "    print(\"Alpha values of first taps are not normal distributed\")\n",
    "else:\n",
    "    print(\"Alpha values of first taps are not normal distributed\")\n",
    "    \n",
    "if p_l < alpha_level:\n",
    "    print(\"Alpha values of last taps are not normal distributed\")\n",
    "else:\n",
    "    print(\"Alpha values of last taps are not normal distributed\")\n",
    "    \n",
    "# Test for difference between first and last taps\n",
    "mws, p = stats.mannwhitneyu(first_taps,last_taps)\n",
    "mws,p\n",
    "\n",
    "if p < alpha_level:\n",
    "    print(\"reject H0\")\n",
    "else:\n",
    "    print(\"H0 not rejectable\")\n",
    "    \n"
   ]
  },
  {
   "cell_type": "code",
   "execution_count": 28,
   "metadata": {},
   "outputs": [
    {
     "name": "stdout",
     "output_type": "stream",
     "text": [
      "8890 6368\n"
     ]
    }
   ],
   "source": [
    "print(len(first_taps),len(last_taps))"
   ]
  },
  {
   "cell_type": "markdown",
   "metadata": {},
   "source": [
    "### 4.2 - Boxplot early vs. late"
   ]
  },
  {
   "cell_type": "code",
   "execution_count": 29,
   "metadata": {
    "scrolled": false
   },
   "outputs": [
    {
     "data": {
      "image/png": "[encoded data removed]",
      "text/plain": [
       "<Figure size 432x288 with 1 Axes>"
      ]
     },
     "metadata": {
      "needs_background": "light"
     },
     "output_type": "display_data"
    }
   ],
   "source": [
    "plt.boxplot([all_subs[all_subs[\"ttap\"] <= all_subs.first_tap+1.5 ][\"alpha_lin\"],\n",
    "             all_subs[all_subs[\"ttap\"] >= all_subs.last_tap-1.5 ][\"alpha_lin\"]])\n",
    "\n",
    "#display(np.median(all_subs[all_subs[\"ttap\"] <= all_subs.first_tap+1.5 ][\"alpha_lin\"]))\n",
    "#display(np.median(all_subs[all_subs[\"ttap\"] >= all_subs.last_tap-1.5 ][\"alpha_lin\"]))\n",
    "plt.title(\"Early vs. late taps\")\n",
    "plt.ylabel(\"Alpha (linearised)\")\n",
    "plt.xticks(ticks=np.arange(1,3),labels=[\"First 1.5s\",\"Last 1.5s\"])\n",
    "\n",
    "# create fig object\n",
    "boxplot_early_vs_late = plt.gcf()\n",
    "# save fig object\n",
    "#pickle.dump(boxplot_early_vs_late, open(behav_plots + \"boxplot_early_vs_late.p\", 'wb'))"
   ]
  },
  {
   "cell_type": "markdown",
   "metadata": {},
   "source": [
    "## 5 - Alpha over Blocks"
   ]
  },
  {
   "cell_type": "code",
   "execution_count": 30,
   "metadata": {},
   "outputs": [
    {
     "data": {
      "image/png": "[encoded data removed]",
      "text/plain": [
       "<Figure size 432x288 with 1 Axes>"
      ]
     },
     "metadata": {
      "needs_background": "light"
     },
     "output_type": "display_data"
    }
   ],
   "source": [
    "all_subs = all_subs[all_subs[\"alpha\"] <= 360]\n",
    "\n",
    "alpha_block = all_subs.groupby(\"block\")\n",
    "alpha_block[\"alpha_lin\"].plot.hist(bins=bin_size)\n",
    "\n",
    "# create fig object\n",
    "alpha_blocks = plt.gcf()\n",
    "# save fig object\n",
    "#pickle.dump(alpha_blocks, open(behav_plots + \"alpha_blocks.p\", 'wb'))"
   ]
  },
  {
   "cell_type": "code",
   "execution_count": 31,
   "metadata": {},
   "outputs": [
    {
     "data": {
      "image/png": "[encoded data removed]",
      "text/plain": [
       "<Figure size 432x288 with 1 Axes>"
      ]
     },
     "metadata": {
      "needs_background": "light"
     },
     "output_type": "display_data"
    }
   ],
   "source": [
    "plt.boxplot([all_subs[all_subs[\"block\"]==1][\"alpha_lin\"],\n",
    "            all_subs[all_subs[\"block\"]==2][\"alpha_lin\"],\n",
    "            all_subs[all_subs[\"block\"]==3][\"alpha_lin\"],\n",
    "            all_subs[all_subs[\"block\"]==4][\"alpha_lin\"],\n",
    "            all_subs[all_subs[\"block\"]==5][\"alpha_lin\"],\n",
    "            all_subs[all_subs[\"block\"]==6][\"alpha_lin\"],\n",
    "            all_subs[all_subs[\"block\"]==7][\"alpha_lin\"],\n",
    "            all_subs[all_subs[\"block\"]==8][\"alpha_lin\"],\n",
    "            all_subs[all_subs[\"block\"]==9][\"alpha_lin\"],\n",
    "            all_subs[all_subs[\"block\"]==10][\"alpha_lin\"],\n",
    "            all_subs[all_subs[\"block\"]==11][\"alpha_lin\"],\n",
    "            all_subs[all_subs[\"block\"]==12][\"alpha_lin\"]]\n",
    "           )\n",
    "plt.title(\"Alpha over Blocks\")\n",
    "plt.ylabel(\"Alpha (linearised)\")\n",
    "plt.xlabel(\"Block Nr.\")\n",
    "plt.xticks(ticks=np.arange(1,13),labels=range(1,13))\n",
    "\n",
    "\n",
    "# create fig object\n",
    "boxplot_blocks = plt.gcf()\n",
    "# save fig object\n",
    "#pickle.dump(boxplot_blocks, open(behav_plots + \"boxplot_blocks.p\", 'wb'))"
   ]
  }
 ],
 "metadata": {
  "kernelspec": {
   "display_name": "Python 3",
   "language": "python",
   "name": "python3"
  },
  "language_info": {
   "codemirror_mode": {
    "name": "ipython",
    "version": 3
   },
   "file_extension": ".py",
   "mimetype": "text/x-python",
   "name": "python",
   "nbconvert_exporter": "python",
   "pygments_lexer": "ipython3",
   "version": "3.8.2"
  }
 },
 "nbformat": 4,
 "nbformat_minor": 4
}
