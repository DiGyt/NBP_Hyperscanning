{
 "cells": [
  {
   "cell_type": "markdown",
   "metadata": {},
   "source": [
    "## Preprocessing Script\n",
    "### *Hyperscanning Study Project 19/20*\n",
    "\n",
    "We loop over all data, clean stuff and then perform the ICA\n",
    "During this process, we save all bad components segments and channels"
   ]
  },
  {
   "cell_type": "code",
   "execution_count": null,
   "metadata": {},
   "outputs": [],
   "source": [
    "#!cd /net/store/nbp/projects/hyperscanning/study_project/NBP_Hyperscanning\n",
    "#!echo $PWD\n",
    "\n",
    "# we need this addition in order to import from local directories into jupyter\n",
    "import os\n",
    "import sys\n",
    "module_path = os.path.abspath(os.path.join('..'))\n",
    "if module_path not in sys.path:\n",
    "    sys.path.append(module_path)\n",
    "\n",
    "\n",
    "# everything else should work as usual\n",
    "import os.path as op\n",
    "\n",
    "import mne\n",
    "\n",
    "from data_analysis.functions_preprocessing import \\\n",
    "    (split_raws, mark_bads_and_save, run_ica_and_save)\n",
    "\n",
    "print(\"ALL FINE\")"
   ]
  },
  {
   "cell_type": "code",
   "execution_count": null,
   "metadata": {},
   "outputs": [],
   "source": []
  },
  {
   "cell_type": "code",
   "execution_count": null,
   "metadata": {},
   "outputs": [],
   "source": []
  }
 ],
 "metadata": {
  "kernelspec": {
   "display_name": "Python 3",
   "language": "python",
   "name": "python3"
  },
  "language_info": {
   "codemirror_mode": {
    "name": "ipython",
    "version": 3
   },
   "file_extension": ".py",
   "mimetype": "text/x-python",
   "name": "python",
   "nbconvert_exporter": "python",
   "pygments_lexer": "ipython3",
   "version": "3.8.2"
  }
 },
 "nbformat": 4,
 "nbformat_minor": 4
}
