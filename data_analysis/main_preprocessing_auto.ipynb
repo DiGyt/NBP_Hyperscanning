{
 "cells": [
  {
   "cell_type": "markdown",
   "metadata": {},
   "source": [
    "### Import libraries and define subject path"
   ]
  },
  {
   "cell_type": "code",
   "execution_count": 1,
   "metadata": {},
   "outputs": [
    {
     "name": "stderr",
     "output_type": "stream",
     "text": [
      "\n",
      "Bad key \"text.kerning_factor\" on line 4 in\n",
      "/net/store/nbp/projects/hyperscanning/study_project/programming_tools/miniconda3/envs/hyperscanning/lib/python3.8/site-packages/matplotlib/mpl-data/stylelib/_classic_test_patch.mplstyle.\n",
      "You probably need to get an updated matplotlibrc file from\n",
      "https://github.com/matplotlib/matplotlib/blob/v3.1.3/matplotlibrc.template\n",
      "or from the matplotlib source distribution\n"
     ]
    },
    {
     "data": {
      "text/plain": [
       "'module://ipympl.backend_nbagg'"
      ]
     },
     "execution_count": 1,
     "metadata": {},
     "output_type": "execute_result"
    }
   ],
   "source": [
    "# This is our preprocessing script.\n",
    "# We select one recording, clean stuff and then perform the ICA\n",
    "# During this process, we save all bad components segments and channels\n",
    "\n",
    "import sys\n",
    "import os.path as op\n",
    "module_path = op.abspath(op.join('..'))\n",
    "if module_path not in sys.path:\n",
    "    sys.path.append(module_path)\n",
    "\n",
    "import pandas as pd\n",
    "import numpy as np\n",
    "import mne\n",
    "from autoreject import AutoReject, get_rejection_threshold\n",
    "\n",
    "from data_analysis.functions_preprocessing import \\\n",
    "    (split_raws, mark_bads, save_bads, run_ica, save_ica, save_autoreject)\n",
    "from data_analysis.functions_behavioral import \\\n",
    "    (create_event_df, remove_ghost_triggers, calculate_alpha,\n",
    "     join_event_dfs, remove_outliers, events_from_event_df)\n",
    "\n",
    "subject_dir = '/net/store/nbp/projects/hyperscanning/hyperscanning-2.0/mne_data/sourcedata/'\n",
    "behav_dir = \"/net/store/nbp/projects/hyperscanning/study_project/NBP_Hyperscanning/data_analysis/Behavioural_Analysis/BehaviouralData\"\n",
    "\n",
    "\n",
    "%matplotlib widget\n",
    "import matplotlib\n",
    "matplotlib.get_backend()"
   ]
  },
  {
   "cell_type": "markdown",
   "metadata": {},
   "source": [
    "## Define the subject you want to clean"
   ]
  },
  {
   "cell_type": "code",
   "execution_count": 2,
   "metadata": {},
   "outputs": [
    {
     "name": "stdout",
     "output_type": "stream",
     "text": [
      "Please Type in, which subject pair you want to clean.\n",
      "For the pilot study, possible choices are:\n",
      "[202, 203, 204, 205, 206, 207, 208, 209, 211, 212]\n",
      "204\n",
      "\n",
      "Please Type in, which subject pair you want to clean.\n",
      "Type: 0 for the first participant and: 1 for the second.\n",
      "1\n"
     ]
    }
   ],
   "source": [
    "subj_pair = input(\"Please Type in, which subject pair you want to clean.\\n\"\n",
    "                  \"For the pilot study, possible choices are:\\n\"\n",
    "                  \"[202, 203, 204, 205, 206, 207, 208, 209, 211, 212]\\n\")\n",
    "\n",
    "participant = input(\"\\nPlease Type in, which subject pair you want to clean.\\n\"\n",
    "                    \"Type: 0 for the first participant and: 1 for the second.\\n\")"
   ]
  },
  {
   "cell_type": "markdown",
   "metadata": {},
   "source": [
    "## Load and prepare the EEG recording"
   ]
  },
  {
   "cell_type": "code",
   "execution_count": 3,
   "metadata": {
    "scrolled": false
   },
   "outputs": [
    {
     "name": "stdout",
     "output_type": "stream",
     "text": [
      "Opening raw data file /net/store/nbp/projects/hyperscanning/hyperscanning-2.0/mne_data/sourcedata/sub-204/eeg/sub-204_task-hyper_eeg.fif...\n"
     ]
    },
    {
     "name": "stderr",
     "output_type": "stream",
     "text": [
      "<ipython-input-3-fcb124fb6594>:11: RuntimeWarning: This filename (/net/store/nbp/projects/hyperscanning/hyperscanning-2.0/mne_data/sourcedata/sub-204/eeg/sub-204_task-hyper_eeg.fif) does not conform to MNE naming conventions. All raw files should end with raw.fif, raw_sss.fif, raw_tsss.fif, raw.fif.gz, raw_sss.fif.gz, raw_tsss.fif.gz or _meg.fif\n",
      "  combined_raw = mne.io.read_raw_fif(subs_path, preload=True)\n"
     ]
    },
    {
     "name": "stdout",
     "output_type": "stream",
     "text": [
      "Isotrak not found\n",
      "    Range : 0 ... 3537048 =      0.000 ...  3454.148 secs\n",
      "Ready.\n",
      "Reading 0 ... 3537048  =      0.000 ...  3454.148 secs...\n",
      "EEG channel type selected for re-referencing\n",
      "Applying a custom EEG reference.\n",
      "EEG channel type selected for re-referencing\n",
      "Applying a custom EEG reference.\n",
      "EEG channel type selected for re-referencing\n",
      "Applying a custom EEG reference.\n",
      "Filtering raw data in 1 contiguous segment\n",
      "Setting up band-pass filter from 0.1 - 1.2e+02 Hz\n",
      "\n",
      "FIR filter parameters\n",
      "---------------------\n",
      "Designing a one-pass, zero-phase, non-causal bandpass filter:\n",
      "- Windowed time-domain design (firwin) method\n",
      "- Hamming window with 0.0194 passband ripple and 53 dB stopband attenuation\n",
      "- Lower passband edge: 0.10\n",
      "- Lower transition bandwidth: 0.10 Hz (-6 dB cutoff frequency: 0.05 Hz)\n",
      "- Upper passband edge: 120.00 Hz\n",
      "- Upper transition bandwidth: 30.00 Hz (-6 dB cutoff frequency: 135.00 Hz)\n",
      "- Filter length: 33793 samples (33.001 sec)\n",
      "\n",
      "Setting up band-stop filter from 49 - 51 Hz\n",
      "\n",
      "FIR filter parameters\n",
      "---------------------\n",
      "Designing a one-pass, zero-phase, non-causal bandstop filter:\n",
      "- Windowed time-domain design (firwin) method\n",
      "- Hamming window with 0.0194 passband ripple and 53 dB stopband attenuation\n",
      "- Lower passband edge: 49.38\n",
      "- Lower transition bandwidth: 0.50 Hz (-6 dB cutoff frequency: 49.12 Hz)\n",
      "- Upper passband edge: 50.62 Hz\n",
      "- Upper transition bandwidth: 0.50 Hz (-6 dB cutoff frequency: 50.88 Hz)\n",
      "- Filter length: 6759 samples (6.601 sec)\n",
      "\n"
     ]
    },
    {
     "data": {
      "text/plain": [
       "<Raw | sub-204_task-hyper_eeg.fif, 80 x 3537049 (3454.1 s), ~2.11 GB, data loaded>"
      ]
     },
     "execution_count": 3,
     "metadata": {},
     "output_type": "execute_result"
    }
   ],
   "source": [
    "# define the subjects id and its path\n",
    "subj_id = \"sub-{0}_p-{1}\".format(subj_pair, participant)\n",
    "subs_path = subject_dir + \"sub-{0}/eeg/sub-{0}_task-hyper_eeg.fif\".format(subj_pair)\n",
    "behav_path = op.join(behav_dir, \"{0}.csv\".format(subj_pair))\n",
    "\n",
    "## overwrite it for the test\n",
    "# TODO: This line should be removed for the actual cleaning\n",
    "subj_id = \"test_2\"\n",
    "\n",
    "# load the data\n",
    "combined_raw = mne.io.read_raw_fif(subs_path, preload=True)\n",
    "\n",
    "# split the subjects and delete the raw file\n",
    "raw = split_raws(combined_raw)[int(participant)]\n",
    "del combined_raw\n",
    "\n",
    "# set reference\n",
    "raw.set_eeg_reference([\"Cz\"])\n",
    "\n",
    "# set the EEG Montage. We use 64 chans from the standard 10-05 system.\n",
    "montage = mne.channels.make_standard_montage(\"standard_1005\")\n",
    "raw.set_montage(montage)\n",
    "\n",
    "# filter ?\n",
    "raw.filter(l_freq=0.1, h_freq=120)\n",
    "raw.notch_filter(freqs=[50]) # bandstop the train and power grid"
   ]
  },
  {
   "cell_type": "markdown",
   "metadata": {},
   "source": [
    "## Define events and epoch the data"
   ]
  },
  {
   "cell_type": "code",
   "execution_count": 7,
   "metadata": {},
   "outputs": [
    {
     "name": "stdout",
     "output_type": "stream",
     "text": [
      "6638 events found\n",
      "Event IDs: [ 1  2  3  4  5  6  7  8  9 10 11 12 13 14 15 16 17 18 19 20 21 22 23 24\n",
      " 25 26 27 28 29 30 31 32 33 34 36 37 38 39 40 41 42 43 44 45 46 48 49]\n",
      "6638 events found\n",
      "Event IDs: [ 1  2  3  4  5  6  7  8  9 10 11 12 13 14 15 16 17 18 19 20 21 22 23 24\n",
      " 25 26 27 28 29 30 31 32 33 34 36 37 38 39 40 41 42 43 44 45 46 48 49]\n",
      "900 matching events found\n",
      "No baseline correction applied\n",
      "Not setting metadata\n",
      "0 projection items activated\n",
      "Loading data for 900 events and 1537 original time points ...\n"
     ]
    },
    {
     "name": "stderr",
     "output_type": "stream",
     "text": [
      "<ipython-input-7-ba6af6a70a61>:28: RuntimeWarning: The events passed to the Epochs constructor are not chronologically ordered.\n",
      "  epochs = mne.Epochs(raw, combined_events, tmin=tmin, tmax=tmax,\n"
     ]
    },
    {
     "name": "stdout",
     "output_type": "stream",
     "text": [
      "0 bad epochs dropped\n"
     ]
    }
   ],
   "source": [
    "# do the behavioral analysis and get the epochs\n",
    "behavioral_df = calculate_alpha(pd.read_csv(behav_path))\n",
    "event_df = create_event_df(raw)\n",
    "event_df = remove_ghost_triggers(event_df)\n",
    "event_df = join_event_dfs(event_df, behavioral_df)\n",
    "\n",
    "# get the first tap by looking at the first sample in each trial\n",
    "min_idx = event_df.groupby([\"trial\"])[\"sample\"].idxmin()\n",
    "early_df = event_df[event_df.index.isin(min_idx)]\n",
    "early_events = events_from_event_df(early_df)\n",
    "\n",
    "# get the late taps by looking at the last sample - 1.5 seconds\n",
    "max_idx = event_df.groupby([\"trial\"])[\"sample\"].idxmax()\n",
    "late_df = event_df[event_df.index.isin(max_idx)]\n",
    "late_events = events_from_event_df(late_df)\n",
    "late_events[:,0] -= int(raw.info[\"sfreq\"] * 1.5)\n",
    "\n",
    "# get the baseline events\n",
    "base_events = mne.pick_events(mne.find_events(raw, shortest_event=1),\n",
    "                          include=48)\n",
    "\n",
    "# define the parameters for epoching\n",
    "# TODO: Define events more elaborate!\n",
    "combined_events = np.vstack([base_events, early_events, late_events])\n",
    "tmin = 0\n",
    "tmax = 1.5\n",
    "\n",
    "epochs = mne.Epochs(raw, combined_events, tmin=tmin, tmax=tmax,\n",
    "                    baseline=None, preload=True)  #baseline=(0, 0)"
   ]
  },
  {
   "cell_type": "markdown",
   "metadata": {},
   "source": [
    "## Run autoreject on the data"
   ]
  },
  {
   "cell_type": "code",
   "execution_count": 8,
   "metadata": {
    "scrolled": false
   },
   "outputs": [
    {
     "name": "stdout",
     "output_type": "stream",
     "text": [
      "Running autoreject on ch_type=eeg\n"
     ]
    },
    {
     "data": {
      "application/vnd.jupyter.widget-view+json": {
       "model_id": "ffe85469216444ddb74ef5a1dbee1ffd",
       "version_major": 2,
       "version_minor": 0
      },
      "text/plain": [
       "HBox(children=(FloatProgress(value=0.0, description='Creating augmented epochs', layout=Layout(flex='2'), max=…"
      ]
     },
     "metadata": {},
     "output_type": "display_data"
    },
    {
     "name": "stdout",
     "output_type": "stream",
     "text": [
      "\n"
     ]
    },
    {
     "data": {
      "application/vnd.jupyter.widget-view+json": {
       "model_id": "fad726f2efba455a996700b12f67a097",
       "version_major": 2,
       "version_minor": 0
      },
      "text/plain": [
       "HBox(children=(FloatProgress(value=0.0, description='Computing thresholds ...', layout=Layout(flex='2'), max=6…"
      ]
     },
     "metadata": {},
     "output_type": "display_data"
    },
    {
     "name": "stdout",
     "output_type": "stream",
     "text": [
      "\n"
     ]
    },
    {
     "data": {
      "application/vnd.jupyter.widget-view+json": {
       "model_id": "6a7c8ab7902e4b949262accc8282767c",
       "version_major": 2,
       "version_minor": 0
      },
      "text/plain": [
       "HBox(children=(FloatProgress(value=0.0, description='Repairing epochs', layout=Layout(flex='2'), max=900.0, st…"
      ]
     },
     "metadata": {},
     "output_type": "display_data"
    },
    {
     "name": "stdout",
     "output_type": "stream",
     "text": [
      "\n"
     ]
    },
    {
     "data": {
      "application/vnd.jupyter.widget-view+json": {
       "model_id": "2f20595e9cbf482abc532102673e2f2b",
       "version_major": 2,
       "version_minor": 0
      },
      "text/plain": [
       "HBox(children=(FloatProgress(value=0.0, description='n_interp', layout=Layout(flex='2'), max=3.0, style=Progre…"
      ]
     },
     "metadata": {},
     "output_type": "display_data"
    },
    {
     "data": {
      "application/vnd.jupyter.widget-view+json": {
       "model_id": "57beb0071f4b4428a00b5996b8b29c3a",
       "version_major": 2,
       "version_minor": 0
      },
      "text/plain": [
       "HBox(children=(FloatProgress(value=0.0, description='Repairing epochs', layout=Layout(flex='2'), max=900.0, st…"
      ]
     },
     "metadata": {},
     "output_type": "display_data"
    },
    {
     "name": "stdout",
     "output_type": "stream",
     "text": [
      "\n"
     ]
    },
    {
     "data": {
      "application/vnd.jupyter.widget-view+json": {
       "model_id": "2849c44b1c7b4a05a68092531346a675",
       "version_major": 2,
       "version_minor": 0
      },
      "text/plain": [
       "HBox(children=(FloatProgress(value=0.0, description='Fold', layout=Layout(flex='2'), max=10.0, style=ProgressS…"
      ]
     },
     "metadata": {},
     "output_type": "display_data"
    },
    {
     "name": "stdout",
     "output_type": "stream",
     "text": [
      "\n"
     ]
    },
    {
     "data": {
      "application/vnd.jupyter.widget-view+json": {
       "model_id": "de3bf8a4bb144a2e9355229f6b2c0483",
       "version_major": 2,
       "version_minor": 0
      },
      "text/plain": [
       "HBox(children=(FloatProgress(value=0.0, description='Repairing epochs', layout=Layout(flex='2'), max=900.0, st…"
      ]
     },
     "metadata": {},
     "output_type": "display_data"
    },
    {
     "name": "stdout",
     "output_type": "stream",
     "text": [
      "\n"
     ]
    },
    {
     "data": {
      "application/vnd.jupyter.widget-view+json": {
       "model_id": "8226e552a967420b86df84630df63bba",
       "version_major": 2,
       "version_minor": 0
      },
      "text/plain": [
       "HBox(children=(FloatProgress(value=0.0, description='Fold', layout=Layout(flex='2'), max=10.0, style=ProgressS…"
      ]
     },
     "metadata": {},
     "output_type": "display_data"
    },
    {
     "name": "stdout",
     "output_type": "stream",
     "text": [
      "\n"
     ]
    },
    {
     "data": {
      "application/vnd.jupyter.widget-view+json": {
       "model_id": "8dd16d19673149a4954c64e31ef5bc31",
       "version_major": 2,
       "version_minor": 0
      },
      "text/plain": [
       "HBox(children=(FloatProgress(value=0.0, description='Repairing epochs', layout=Layout(flex='2'), max=900.0, st…"
      ]
     },
     "metadata": {},
     "output_type": "display_data"
    },
    {
     "name": "stdout",
     "output_type": "stream",
     "text": [
      "\n"
     ]
    },
    {
     "data": {
      "application/vnd.jupyter.widget-view+json": {
       "model_id": "dfb9fd82debb4636a7dd2ba208bad989",
       "version_major": 2,
       "version_minor": 0
      },
      "text/plain": [
       "HBox(children=(FloatProgress(value=0.0, description='Fold', layout=Layout(flex='2'), max=10.0, style=ProgressS…"
      ]
     },
     "metadata": {},
     "output_type": "display_data"
    },
    {
     "name": "stdout",
     "output_type": "stream",
     "text": [
      "\n",
      "\n",
      "\n",
      "\n",
      "\n",
      "\n",
      "Estimated consensus=0.20 and n_interpolate=4\n",
      "Estimating rejection dictionary for eeg\n",
      "Estimating rejection dictionary for eog\n"
     ]
    },
    {
     "data": {
      "application/vnd.jupyter.widget-view+json": {
       "model_id": "8f861af4390a4633977a2c794f3b2ea5",
       "version_major": 2,
       "version_minor": 0
      },
      "text/plain": [
       "Canvas(toolbar=Toolbar(toolitems=[('Home', 'Reset original view', 'home', 'home'), ('Back', 'Back to previous …"
      ]
     },
     "metadata": {},
     "output_type": "display_data"
    },
    {
     "data": {
      "image/png": "[encoded data removed]",
      "text/plain": [
       "<Figure size 1200x600 with 1 Axes>"
      ]
     },
     "execution_count": 8,
     "metadata": {},
     "output_type": "execute_result"
    }
   ],
   "source": [
    "picks = mne.pick_types(epochs.info, eeg=True)\n",
    "\n",
    "# define an autoreject object\n",
    "ar = AutoReject(consensus=[0.1, 0.2, 0.3, 0.4, 0.5], thresh_method=\"random_search\",\n",
    "                picks=picks, verbose=\"tqdm_notebook\") # [0.1, 0.2, 0.3, 0.4, 0.5], \"bayesian_optimization\"\n",
    "\n",
    "# fit the epochs\n",
    "ar.fit(epochs)\n",
    "\n",
    "# get the rejection threshold for ICA\n",
    "reject = get_rejection_threshold(epochs)\n",
    "\n",
    "# plot it\n",
    "reject_log = ar.get_reject_log(epochs)\n",
    "reject_log.plot()"
   ]
  },
  {
   "cell_type": "markdown",
   "metadata": {},
   "source": [
    "## Look at included and excluded epochs"
   ]
  },
  {
   "cell_type": "code",
   "execution_count": 9,
   "metadata": {
    "scrolled": false
   },
   "outputs": [
    {
     "data": {
      "application/vnd.jupyter.widget-view+json": {
       "model_id": "44f60a19d00748a88d55e114125e2da6",
       "version_major": 2,
       "version_minor": 0
      },
      "text/plain": [
       "Canvas(toolbar=Toolbar(toolitems=[('Home', 'Reset original view', 'home', 'home'), ('Back', 'Back to previous …"
      ]
     },
     "metadata": {},
     "output_type": "display_data"
    },
    {
     "name": "stdout",
     "output_type": "stream",
     "text": [
      "Rejected 284 out of 900 epochs.\n"
     ]
    }
   ],
   "source": [
    "scalings = dict(eeg=80e-6, eog=150e-6, misc=1e-3)\n",
    "reject_log.plot_epochs(epochs, scalings=scalings)\n",
    "\n",
    "print(\"Rejected {} out of {} epochs.\".format(sum(reject_log.bad_epochs), len(epochs)))\n"
   ]
  },
  {
   "cell_type": "markdown",
   "metadata": {},
   "source": [
    "## Save the autoreject object"
   ]
  },
  {
   "cell_type": "code",
   "execution_count": null,
   "metadata": {
    "scrolled": true
   },
   "outputs": [],
   "source": [
    "save_autoreject(ar, subj_id)"
   ]
  },
  {
   "cell_type": "markdown",
   "metadata": {},
   "source": [
    "## Run (or load) the ICA and plot all components"
   ]
  },
  {
   "cell_type": "code",
   "execution_count": 10,
   "metadata": {
    "scrolled": false
   },
   "outputs": [
    {
     "name": "stdout",
     "output_type": "stream",
     "text": [
      "Setting up high-pass filter at 2 Hz\n",
      "\n",
      "FIR filter parameters\n",
      "---------------------\n",
      "Designing a one-pass, zero-phase, non-causal highpass filter:\n",
      "- Windowed time-domain design (firwin) method\n",
      "- Hamming window with 0.0194 passband ripple and 53 dB stopband attenuation\n",
      "- Lower passband edge: 2.00\n",
      "- Lower transition bandwidth: 2.00 Hz (-6 dB cutoff frequency: 1.00 Hz)\n",
      "- Filter length: 1691 samples (1.651 sec)\n",
      "\n"
     ]
    },
    {
     "name": "stderr",
     "output_type": "stream",
     "text": [
      "<ipython-input-10-d6935f517548>:2: RuntimeWarning: filter_length (1691) is longer than the signal (1537), distortion is likely. Reduce filter length or filter a longer signal.\n",
      "  epochs.filter(l_freq=2, h_freq=None)\n"
     ]
    },
    {
     "name": "stdout",
     "output_type": "stream",
     "text": [
      "Fitting ICA to data using 64 channels (please be patient, this may take a while)\n",
      "Inferring max_pca_components from picks\n",
      "Selecting by number: 63 components\n",
      "Fitting ICA took 170.3s.\n"
     ]
    },
    {
     "data": {
      "application/vnd.jupyter.widget-view+json": {
       "model_id": "1946a918aa544a7b93f9c77139b1e415",
       "version_major": 2,
       "version_minor": 0
      },
      "text/plain": [
       "Canvas(toolbar=Toolbar(toolitems=[('Home', 'Reset original view', 'home', 'home'), ('Back', 'Back to previous …"
      ]
     },
     "metadata": {},
     "output_type": "display_data"
    },
    {
     "data": {
      "application/vnd.jupyter.widget-view+json": {
       "model_id": "be091e5a9d3e4394b2e2d6bcb972e2d7",
       "version_major": 2,
       "version_minor": 0
      },
      "text/plain": [
       "Canvas(toolbar=Toolbar(toolitems=[('Home', 'Reset original view', 'home', 'home'), ('Back', 'Back to previous …"
      ]
     },
     "metadata": {},
     "output_type": "display_data"
    },
    {
     "data": {
      "application/vnd.jupyter.widget-view+json": {
       "model_id": "c65f7a27b4514888ba1510830109809a",
       "version_major": 2,
       "version_minor": 0
      },
      "text/plain": [
       "Canvas(toolbar=Toolbar(toolitems=[('Home', 'Reset original view', 'home', 'home'), ('Back', 'Back to previous …"
      ]
     },
     "metadata": {},
     "output_type": "display_data"
    },
    {
     "data": {
      "application/vnd.jupyter.widget-view+json": {
       "model_id": "343e36639b1b46bea905b112a8bf25fb",
       "version_major": 2,
       "version_minor": 0
      },
      "text/plain": [
       "Canvas(toolbar=Toolbar(toolitems=[('Home', 'Reset original view', 'home', 'home'), ('Back', 'Back to previous …"
      ]
     },
     "metadata": {},
     "output_type": "display_data"
    }
   ],
   "source": [
    "# filter again for ICA\n",
    "epochs.filter(l_freq=2, h_freq=None)\n",
    "\n",
    "# run the ICA and save the marked components\n",
    "ica = run_ica(epochs, subj_id, picks=[\"eeg\"], reject=reject,\n",
    "              n_components=63, method=\"fastica\")"
   ]
  },
  {
   "cell_type": "markdown",
   "metadata": {},
   "source": [
    "## Get ICA components based on their correlation with EOG"
   ]
  },
  {
   "cell_type": "code",
   "execution_count": 11,
   "metadata": {},
   "outputs": [
    {
     "name": "stdout",
     "output_type": "stream",
     "text": [
      "Using channel BIP5 as EOG channel\n"
     ]
    },
    {
     "data": {
      "application/vnd.jupyter.widget-view+json": {
       "model_id": "357269af46334731a4c35b1a39631896",
       "version_major": 2,
       "version_minor": 0
      },
      "text/plain": [
       "Canvas(toolbar=Toolbar(toolitems=[('Home', 'Reset original view', 'home', 'home'), ('Back', 'Back to previous …"
      ]
     },
     "metadata": {},
     "output_type": "display_data"
    },
    {
     "data": {
      "application/vnd.jupyter.widget-view+json": {
       "model_id": "735d44051f1942a4a288410e006dfdda",
       "version_major": 2,
       "version_minor": 0
      },
      "text/plain": [
       "Canvas(toolbar=Toolbar(toolitems=[('Home', 'Reset original view', 'home', 'home'), ('Back', 'Back to previous …"
      ]
     },
     "metadata": {},
     "output_type": "display_data"
    },
    {
     "name": "stdout",
     "output_type": "stream",
     "text": [
      "    Using multitaper spectrum estimation with 7 DPSS windows\n",
      "900 matching events found\n",
      "No baseline correction applied\n",
      "Not setting metadata\n",
      "0 projection items activated\n",
      "0 bad epochs dropped\n"
     ]
    },
    {
     "data": {
      "text/plain": [
       "[<Figure size 700x600 with 6 Axes>]"
      ]
     },
     "execution_count": 11,
     "metadata": {},
     "output_type": "execute_result"
    }
   ],
   "source": [
    "eog_name = \"BIP1\" if (participant == \"0\") else \"BIP5\"\n",
    "eog_idx, eog_scores = ica.find_bads_eog(epochs, ch_name=eog_name)\n",
    "\n",
    "# barplot of ICA component \"EOG match\" scores\n",
    "ica.plot_scores(eog_scores)\n",
    "\n",
    "# plot diagnostics\n",
    "ica.plot_properties(epochs, picks=eog_idx)\n"
   ]
  },
  {
   "cell_type": "markdown",
   "metadata": {},
   "source": [
    "## Choose specific component properties to inspect"
   ]
  },
  {
   "cell_type": "code",
   "execution_count": 12,
   "metadata": {
    "scrolled": false
   },
   "outputs": [
    {
     "name": "stdout",
     "output_type": "stream",
     "text": [
      "Please type in which components you want to further inspect.\n",
      "E.G. 3, 4,15 for components 3, 4, and 15.\n",
      "15\n"
     ]
    },
    {
     "data": {
      "application/vnd.jupyter.widget-view+json": {
       "model_id": "e6df0617d61e4d999a0e18934a05bc65",
       "version_major": 2,
       "version_minor": 0
      },
      "text/plain": [
       "Canvas(toolbar=Toolbar(toolitems=[('Home', 'Reset original view', 'home', 'home'), ('Back', 'Back to previous …"
      ]
     },
     "metadata": {},
     "output_type": "display_data"
    },
    {
     "name": "stdout",
     "output_type": "stream",
     "text": [
      "    Using multitaper spectrum estimation with 7 DPSS windows\n",
      "900 matching events found\n",
      "No baseline correction applied\n",
      "Not setting metadata\n",
      "0 projection items activated\n",
      "0 bad epochs dropped\n"
     ]
    }
   ],
   "source": [
    "inp = input(\"Please type in which components you want to further \"\n",
    "            \"inspect.\\nE.G. 3, 4,15 for components 3, 4, and 15.\\n\")\n",
    "\n",
    "inp = [int(n) for n in inp.split(\",\") if n != \"\"]\n",
    "\n",
    "if len(inp) > 0:\n",
    "    ica.plot_properties(epochs, picks=inp, reject=None)\n"
   ]
  },
  {
   "cell_type": "markdown",
   "metadata": {},
   "source": [
    "## Exclude specific ICA components"
   ]
  },
  {
   "cell_type": "code",
   "execution_count": null,
   "metadata": {
    "scrolled": false
   },
   "outputs": [],
   "source": [
    "print(\"Excluded ICA components: \", ica.exclude)\n",
    "\n",
    "inp = input(\"\\nPlease type in which components you want to exclude.\\n\"\n",
    "            \"E.G. 2, 3,14 for components 2, 3, and 14.\\n\")\n",
    "\n",
    "bad_comps = [int(comp) for comp in inp.split(\",\") if comp != \"\"]\n",
    "bad_comps = [comp for comp in set(bad_comps) if comp not in ica.exclude]\n",
    "\n",
    "ica.exclude.extend(bad_comps)\n",
    "print(\"\\nExcluded ICA components: \", ica.exclude)"
   ]
  },
  {
   "cell_type": "markdown",
   "metadata": {},
   "source": [
    "## Save the ICA and its excluded components"
   ]
  },
  {
   "cell_type": "code",
   "execution_count": null,
   "metadata": {},
   "outputs": [],
   "source": [
    "inp = input(\"Do you really want to save the components?\\n\"\n",
    "            \"Enter 'save' or 's' to save the data. Else, \"\n",
    "            \"changes will be discarded.\\n\")\n",
    "\n",
    "if inp[0] == \"s\":\n",
    "    save_ica(ica, subj_id)"
   ]
  },
  {
   "cell_type": "markdown",
   "metadata": {},
   "source": [
    "### give everyone access to the new marked files you've created"
   ]
  },
  {
   "cell_type": "code",
   "execution_count": null,
   "metadata": {},
   "outputs": [],
   "source": [
    "!cd /net/store/nbp/projects/hyperscanning/study_project\n",
    "!chown -hR $USER:nbp *; chmod -R 770 *"
   ]
  },
  {
   "cell_type": "markdown",
   "metadata": {},
   "source": [
    "\n",
    "\n",
    "### Everything done. Thanks for cleaning :)"
   ]
  }
 ],
 "metadata": {
  "kernelspec": {
   "display_name": "Python 3",
   "language": "python",
   "name": "python3"
  },
  "language_info": {
   "codemirror_mode": {
    "name": "ipython",
    "version": 3
   },
   "file_extension": ".py",
   "mimetype": "text/x-python",
   "name": "python",
   "nbconvert_exporter": "python",
   "pygments_lexer": "ipython3",
   "version": "3.8.2"
  }
 },
 "nbformat": 4,
 "nbformat_minor": 4
}
